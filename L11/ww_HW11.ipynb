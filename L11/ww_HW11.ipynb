{
 "cells": [
  {
   "cell_type": "markdown",
   "metadata": {},
   "source": [
    "\n",
    "# VaR Monte Carlo Sim: HW11\n",
    "\n",
    "CUNY MSDA - DATA 602: Advanced Programming Techniques<br>\n",
    "_Author - Walt Wells_"
   ]
  },
  {
   "cell_type": "code",
   "execution_count": 1,
   "metadata": {
    "collapsed": true
   },
   "outputs": [],
   "source": [
    "import pandas as pd"
   ]
  },
  {
   "cell_type": "markdown",
   "metadata": {},
   "source": [
    "Perform a Monte Carlo simulation to calculate Value at Risk (VaR) for the Apple stock price using the file attached to this lesson. There exist a number of ways to do this type of analysis, but you can follow this basic procedure (refer to this PDF mc.pdf)\n",
    "\n",
    "* The file (apple.2011.csv) has 3 columns: date, price, and percent change.  The information you are really interested in is the percent change.  This value is the percent change in the price from the previous date to the date on the corresponding row.\n",
    "* Use the percent change values to create a Gaussian random number generator.  This generator will create Gaussian-distributed randoms to use as hypothetical percent changes on the day to day price of Apple stock.\n",
    "* With that generator, create 20 random numbers.  With these randoms, you can find a potential price change over 20 days.\n",
    "* Start with the price from the last row and the random numbers to determine a hypothetical price after 20 days.  To do this, take that last price, apply a percent change and get a new price.  Then take that new price, and apply the next percent change.  Do this for the 20 randoms, and get a final price.\n",
    "* Store the final price after 20 days (you can discard the intermediate price values).\n",
    "* Repeat steps 3-5 a very large number of times.  Something like 10000.  Each run will yield a different result.\n",
    "* Take all of the stored prices (10000 or so), sort them, and find the 1% lowest percentile.  This value is the final result, and represents the VaR with 99% confidence.  This means that the price will be above this result after 20 days with a confidence level of 99%."
   ]
  },
  {
   "cell_type": "code",
   "execution_count": 11,
   "metadata": {
    "collapsed": false
   },
   "outputs": [
    {
     "name": "stdout",
     "output_type": "stream",
     "text": [
      "        date    price    per_change\n",
      "0   1/3/2011  329.570         XXXXX\n",
      "1   1/4/2011  331.290   0.005218922\n",
      "2   1/5/2011  334.000   0.008180144\n",
      "3   1/6/2011  333.730  -0.000808383\n",
      "4   1/7/2011  336.120   0.007161478\n",
      "5  1/10/2011  342.455   0.018847435\n",
      "6  1/11/2011  341.640  -0.002379875\n",
      "7  1/12/2011  344.420    0.00813722\n",
      "8  1/13/2011  345.680   0.003658324\n",
      "9  1/14/2011  348.480   0.008099977\n"
     ]
    },
    {
     "data": {
      "text/plain": [
       "(252, 3)"
      ]
     },
     "execution_count": 11,
     "metadata": {},
     "output_type": "execute_result"
    }
   ],
   "source": [
    "apple = pd.read_csv('apple.2011.csv', names = ['date', 'price', 'per_change'], skiprows=1)\n",
    "print apple.head(10)\n",
    "apple.shape"
   ]
  },
  {
   "cell_type": "code",
   "execution_count": null,
   "metadata": {
    "collapsed": true
   },
   "outputs": [],
   "source": []
  }
 ],
 "metadata": {
  "kernelspec": {
   "display_name": "Python 2",
   "language": "python",
   "name": "python2"
  },
  "language_info": {
   "codemirror_mode": {
    "name": "ipython",
    "version": 2
   },
   "file_extension": ".py",
   "mimetype": "text/x-python",
   "name": "python",
   "nbconvert_exporter": "python",
   "pygments_lexer": "ipython2",
   "version": "2.7.10"
  }
 },
 "nbformat": 4,
 "nbformat_minor": 0
}
