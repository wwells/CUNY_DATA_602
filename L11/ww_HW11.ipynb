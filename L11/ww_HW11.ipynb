{
 "cells": [
  {
   "cell_type": "markdown",
   "metadata": {},
   "source": [
    "\n",
    "# VaR Monte Carlo Sim: HW11\n",
    "\n",
    "CUNY MSDA - DATA 602: Advanced Programming Techniques<br>\n",
    "_Author - Walt Wells_"
   ]
  },
  {
   "cell_type": "code",
   "execution_count": 1,
   "metadata": {
    "collapsed": true
   },
   "outputs": [],
   "source": [
    "import pandas as pd\n",
    "import numpy as np\n",
    "import matplotlib.pyplot as plt\n",
    "%matplotlib inline"
   ]
  },
  {
   "cell_type": "markdown",
   "metadata": {},
   "source": [
    "Perform a Monte Carlo simulation to calculate Value at Risk (VaR) for the Apple stock price using the file attached to this lesson. There exist a number of ways to do this type of analysis, but you can follow this basic procedure (refer to this PDF mc.pdf)\n",
    "\n",
    "* The file (apple.2011.csv) has 3 columns: date, price, and percent change.  The information you are really interested in is the percent change.  This value is the percent change in the price from the previous date to the date on the corresponding row.\n",
    "* Use the percent change values to create a Gaussian random number generator.  This generator will create Gaussian-distributed randoms to use as hypothetical percent changes on the day to day price of Apple stock.\n",
    "* With that generator, create 20 random numbers.  With these randoms, you can find a potential price change over 20 days.\n",
    "* Start with the price from the last row and the random numbers to determine a hypothetical price after 20 days.  To do this, take that last price, apply a percent change and get a new price.  Then take that new price, and apply the next percent change.  Do this for the 20 randoms, and get a final price.\n",
    "* Store the final price after 20 days (you can discard the intermediate price values).\n",
    "* Repeat steps 3-5 a very large number of times.  Something like 10000.  Each run will yield a different result.\n",
    "* Take all of the stored prices (10000 or so), sort them, and find the 1% lowest percentile.  This value is the final result, and represents the VaR with 99% confidence.  This means that the price will be above this result after 20 days with a confidence level of 99%."
   ]
  },
  {
   "cell_type": "markdown",
   "metadata": {},
   "source": [
    "### Load and Clean Data"
   ]
  },
  {
   "cell_type": "code",
   "execution_count": 2,
   "metadata": {
    "collapsed": false
   },
   "outputs": [
    {
     "name": "stdout",
     "output_type": "stream",
     "text": [
      "date          datetime64[ns]\n",
      "price                float64\n",
      "per_change           float64\n",
      "dtype: object\n",
      "        date    price  per_change\n",
      "0 2011-01-03  329.570         NaN\n",
      "1 2011-01-04  331.290    0.005219\n",
      "2 2011-01-05  334.000    0.008180\n",
      "3 2011-01-06  333.730   -0.000808\n",
      "4 2011-01-07  336.120    0.007161\n",
      "5 2011-01-10  342.455    0.018847\n",
      "6 2011-01-11  341.640   -0.002380\n",
      "7 2011-01-12  344.420    0.008137\n",
      "8 2011-01-13  345.680    0.003658\n",
      "9 2011-01-14  348.480    0.008100\n"
     ]
    },
    {
     "data": {
      "text/plain": [
       "(252, 3)"
      ]
     },
     "execution_count": 2,
     "metadata": {},
     "output_type": "execute_result"
    }
   ],
   "source": [
    "apple = pd.read_csv('apple.2011.csv', names = ['date', 'price', 'per_change'], skiprows=1)\n",
    "apple['date'] = pd.to_datetime(apple['date'])\n",
    "apple['per_change'] = pd.to_numeric(apple['per_change'], errors='coerce')\n",
    "print apple.dtypes\n",
    "print apple.head(10)\n",
    "apple.shape"
   ]
  },
  {
   "cell_type": "markdown",
   "metadata": {},
   "source": [
    "### Get Values, Function to Generate Walk"
   ]
  },
  {
   "cell_type": "code",
   "execution_count": 3,
   "metadata": {
    "collapsed": false
   },
   "outputs": [
    {
     "data": {
      "text/plain": [
       "(0.00095735520717131473, 0.016487613979893453, 405.0)"
      ]
     },
     "execution_count": 3,
     "metadata": {},
     "output_type": "execute_result"
    }
   ],
   "source": [
    "mu = np.mean(apple['per_change'])\n",
    "sigma = np.std(apple['per_change'])\n",
    "lastprice = apple.price.iloc[-1]\n",
    "mu, sigma, lastprice"
   ]
  },
  {
   "cell_type": "code",
   "execution_count": 4,
   "metadata": {
    "collapsed": true
   },
   "outputs": [],
   "source": [
    "def montecarlowalk(walklength):\n",
    "    price = lastprice\n",
    "    randlist = np.random.normal(mu, sigma, walklength)\n",
    "    for i in randlist:\n",
    "        price = price + price * i\n",
    "    return price"
   ]
  },
  {
   "cell_type": "code",
   "execution_count": 5,
   "metadata": {
    "collapsed": false
   },
   "outputs": [
    {
     "data": {
      "text/plain": [
       "393.12308058712631"
      ]
     },
     "execution_count": 5,
     "metadata": {},
     "output_type": "execute_result"
    }
   ],
   "source": [
    "test = montecarlowalk(20)\n",
    "test"
   ]
  },
  {
   "cell_type": "markdown",
   "metadata": {},
   "source": [
    "### Run 10000 times, Determine 99% VaR"
   ]
  },
  {
   "cell_type": "code",
   "execution_count": 6,
   "metadata": {
    "collapsed": false
   },
   "outputs": [],
   "source": [
    "n = 10000\n",
    "monte = [montecarlowalk(20) for i in range(n)]\n",
    "VaR99 = np.percentile(monte, 1)\n",
    "VaR95 = np.percentile(monte, 5)"
   ]
  },
  {
   "cell_type": "markdown",
   "metadata": {},
   "source": [
    "### Plot Results"
   ]
  },
  {
   "cell_type": "code",
   "execution_count": 8,
   "metadata": {
    "collapsed": false
   },
   "outputs": [
    {
     "data": {
      "image/png": "[encoded data removed]",
      "text/plain": [
       "<matplotlib.figure.Figure at 0x10e6546d0>"
      ]
     },
     "metadata": {},
     "output_type": "display_data"
    }
   ],
   "source": [
    "plt.hist(monte, bins=50)\n",
    "plt.title('Distribution of Simulated Stock Values at Day 20')\n",
    "plt.xlabel('Dollar Value')\n",
    "plt.ylabel('Counts')\n",
    "plt.axvline(VaR99, color='g', linestyle='dashed', linewidth=2)\n",
    "plt.text(VaR99 - 44,600,'VaR - 99%', color='g')\n",
    "plt.axvline(VaR95, color='r', linestyle='dashed', linewidth=2)\n",
    "plt.text(VaR95 + 5, 600,'VaR - 95%', color='r')\n",
    "plt.show()"
   ]
  },
  {
   "cell_type": "code",
   "execution_count": 9,
   "metadata": {
    "collapsed": false
   },
   "outputs": [
    {
     "data": {
      "text/plain": [
       "346.40620349995152"
      ]
     },
     "execution_count": 9,
     "metadata": {},
     "output_type": "execute_result"
    }
   ],
   "source": [
    "VaR99"
   ]
  },
  {
   "cell_type": "markdown",
   "metadata": {},
   "source": [
    "Based on our Monte Carlo simulation using historical metrics collected from observing 252 days of Apple stock, we are 99% confident the price after 20 days will be greater than the number above.   \n",
    "\n",
    "We can look at historical data and determine that on 1.19.2012, the stock price was indeed well above this threshold - $427.75."
   ]
  },
  {
   "cell_type": "markdown",
   "metadata": {},
   "source": [
    "### References"
   ]
  },
  {
   "cell_type": "markdown",
   "metadata": {},
   "source": [
    "* https://finance.yahoo.com/quote/AAPL/history?period1=1325224800&period2=1326952800&interval=1d&filter=history&frequency=1d\n",
    "* https://pythonprogramming.net/monte-carlo-simulator-python/"
   ]
  }
 ],
 "metadata": {
  "kernelspec": {
   "display_name": "Python 2",
   "language": "python",
   "name": "python2"
  },
  "language_info": {
   "codemirror_mode": {
    "name": "ipython",
    "version": 2
   },
   "file_extension": ".py",
   "mimetype": "text/x-python",
   "name": "python",
   "nbconvert_exporter": "python",
   "pygments_lexer": "ipython2",
   "version": "2.7.10"
  }
 },
 "nbformat": 4,
 "nbformat_minor": 0
}
