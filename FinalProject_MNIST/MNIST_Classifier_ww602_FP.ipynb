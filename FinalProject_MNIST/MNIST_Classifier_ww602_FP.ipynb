{
 "cells": [
  {
   "cell_type": "markdown",
   "metadata": {},
   "source": [
    "# Final Project:   Building a Basic MNIST MultiClass Classifier from Scratch\n",
    "\n",
    "CUNY MSDA - DATA 602: Advanced Programming Techniques<br>\n",
    "_Author - Walt Wells_\n",
    "\n",
    "## Overview\n",
    "\n",
    "The DATA 602 - Advanced Programming Techniques Final Project will serve as an opportunity to learn more about image manipulation and multiclass classification.   \n",
    "\n",
    "I propose to build a simple multiclass classifier from scratch that finds a distance metric between a sample image and a dataset contrived from the mean pixel values of each class.  This is inspired by ideas proposed in section 4.2 of Tim Chartier's \"When Life Is Linear\" book.  Once we have our predictions, we will describe and interpret the performance of our multiclass classifier.  \n",
    "\n",
    "MNIST seems to be a good choice since there are a lot of existing materials on using this dataset.   I don't expect to contribute anything new to MNIST research.  My focus will instead be on building from scratch each step required for multiclass classification.  While more effective models are likely available in existing python libraries like scikit-learn, tensorflow, and others, initially avoiding the 'blackbox' and building by hand will lead to a greater comprehension of the requirements for training, testing, and evaluating the performance of a multiclass classifier. \n",
    "\n",
    "## Data\n",
    "\n",
    "\"The MNIST database of handwritten digits, available from this page, has a training set of 60,000 examples, and a test set of 10,000 examples. It is a subset of a larger set available from NIST. The digits have been size-normalized and centered in a fixed-size image. \" - http://yann.lecun.com/exdb/mnist/\n",
    "\n",
    "Data Curation: \n",
    "* Yann LeCun, Courant Institute, NYU\n",
    "* Corinna Cortes, Google Labs, New York\n",
    "* Christopher J.C. Burges, Microsoft Research, Redmond\n",
    "\n",
    "## Resources\n",
    "\n",
    "This Jupyter notebook is set up on a VM as part of an allocation grant from the [Open Science Data Cloud](https://www.opensciencedatacloud.org).  The OSDC offers services similar to commercial cloud providers like AWS, Azure and Google Compute, but is designed to serve the 'long tail' of the data science community by providing allocation grants to researchers in need of resources.  I help manage the operations of the OSDC as part of my work with the Open Commons Consortium (occ-data.org). \n",
    "\n",
    "The full MNIST dataset is not large, and can be managed from the ephemeral storage in the VM.  I port forward the jupyter notebook through a proxy server and work in a browser on my local machine. Github is used to manage the code. \n",
    "\n",
    "## Environment Prep"
   ]
  },
  {
   "cell_type": "code",
   "execution_count": 1,
   "metadata": {
    "collapsed": true
   },
   "outputs": [],
   "source": [
    "import os\n",
    "import struct\n",
    "import pandas as pd\n",
    "import numpy as np\n",
    "import itertools\n",
    "import seaborn as sns\n",
    "import matplotlib as mpl\n",
    "import matplotlib.pyplot as plt\n",
    "from random import randint\n",
    "%matplotlib inline"
   ]
  },
  {
   "cell_type": "markdown",
   "metadata": {},
   "source": [
    "## Data Import and Preparation"
   ]
  },
  {
   "cell_type": "code",
   "execution_count": 2,
   "metadata": {
    "collapsed": true
   },
   "outputs": [],
   "source": [
    "def read(dataset = \"training\", path = \".\"):\n",
    "    \"\"\"\n",
    "    Python function for importing the MNIST data set as a pandas data frame. \n",
    "    The first column is the label/class, the other 784 columns are the pixel values.  \n",
    "    Uses code liberally from https://gist.github.com/akesling/5358964, but works to build\n",
    "    a table similar to the Kaggle digit recognizer dataset: https://www.kaggle.com/c/digit-recognizer\n",
    "    \"\"\"\n",
    "\n",
    "    if dataset is \"training\":\n",
    "        fname_img = os.path.join(path, 'train-images-idx3-ubyte')\n",
    "        fname_lbl = os.path.join(path, 'train-labels-idx1-ubyte')\n",
    "    elif dataset is \"testing\":\n",
    "        fname_img = os.path.join(path, 't10k-images-idx3-ubyte')\n",
    "        fname_lbl = os.path.join(path, 't10k-labels-idx1-ubyte')\n",
    "    else:\n",
    "        raise ValueError, \"dataset must be 'testing' or 'training'\"\n",
    "    \n",
    "    # get labels\n",
    "    with open(fname_lbl, 'rb') as flbl:\n",
    "        magic, num = struct.unpack(\">II\", flbl.read(8))\n",
    "        lbl = np.fromfile(flbl, dtype=np.uint8)\n",
    "\n",
    "    # get pixel values\n",
    "    with open(fname_img, 'rb') as fimg:\n",
    "        magic, num, rows, cols = struct.unpack(\">IIII\", fimg.read(16))\n",
    "        img = np.fromfile(fimg, dtype=np.uint8).reshape(len(lbl), 1, 784)\n",
    "        img = img.tolist()\n",
    "        img = list(itertools.chain(*img))\n",
    "    \n",
    "    data = [] #initialize list\n",
    "    \n",
    "    # get row for DF\n",
    "    def get_img(idx): \n",
    "        row = img[idx]\n",
    "        row.insert(0, lbl[idx])\n",
    "        return row\n",
    "\n",
    "    # populate list with rows for each image\n",
    "    for i in xrange(len(lbl)):\n",
    "        data.append(get_img(i))\n",
    "    \n",
    "    # convert to df\n",
    "    df = pd.DataFrame(data)\n",
    "    df.rename(columns={0:'label'}, inplace=True)\n",
    "    return df"
   ]
  },
  {
   "cell_type": "markdown",
   "metadata": {},
   "source": [
    "### Import Train and Testing Data"
   ]
  },
  {
   "cell_type": "code",
   "execution_count": 3,
   "metadata": {},
   "outputs": [
    {
     "name": "stdout",
     "output_type": "stream",
     "text": [
      "Training Data:  (60000, 785)\n",
      "Testing Data:  (10000, 785)\n"
     ]
    }
   ],
   "source": [
    "mtrain = read(\"training\")\n",
    "mtest = read(\"testing\")\n",
    "print \"Training Data: \", mtrain.shape\n",
    "print \"Testing Data: \", mtest.shape"
   ]
  },
  {
   "cell_type": "markdown",
   "metadata": {},
   "source": [
    "The code below is for testing different splits of training and test."
   ]
  },
  {
   "cell_type": "code",
   "execution_count": 4,
   "metadata": {},
   "outputs": [],
   "source": [
    "#alld = pd.concat([mtrain, mtest])\n",
    "#print alld.shape\n",
    "#msk = np.random.rand(len(alld)) < 0.8\n",
    "#mtrain = alld[msk]\n",
    "#mtest = alld[~msk]\n",
    "#print mtrain.shape\n",
    "#print mtest.shape"
   ]
  },
  {
   "cell_type": "markdown",
   "metadata": {},
   "source": [
    "### Review Training and Test Label Distributions"
   ]
  },
  {
   "cell_type": "code",
   "execution_count": 5,
   "metadata": {},
   "outputs": [
    {
     "data": {
      "image/png": "[encoded data removed]",
      "text/plain": [
       "<matplotlib.figure.Figure at 0x7fd9aad32050>"
      ]
     },
     "metadata": {},
     "output_type": "display_data"
    }
   ],
   "source": [
    "f, (ax1, ax2) = plt.subplots(ncols=2, sharey=True)\n",
    "plt.suptitle('MNIST Image Distribution', fontweight='bold')\n",
    "sns.distplot(mtrain.label, kde=False, ax=ax1).set_title('Training Label');\n",
    "sns.distplot(mtest.label, kde=False, ax=ax2).set_title('Testing Label');\n",
    "plt.subplots_adjust(top=.85, bottom=0.1, left=0.05, right=0.95, hspace=0.8,\n",
    "                    wspace=0.35)"
   ]
  },
  {
   "cell_type": "markdown",
   "metadata": {},
   "source": [
    "## Image Visualization"
   ]
  },
  {
   "cell_type": "code",
   "execution_count": 6,
   "metadata": {
    "collapsed": true
   },
   "outputs": [],
   "source": [
    "def rowconverter(df, idx):\n",
    "    \"\"\"\n",
    "    given a df and a index, get a label for the image, and convert \n",
    "    back to a 28^2 np.array\n",
    "    \"\"\"\n",
    "    row = df.loc[[idx]]\n",
    "    label = row.iloc[0]['label']\n",
    "    row.pop('label')\n",
    "    image = row.as_matrix().reshape(28,28)\n",
    "    return label, image\n",
    "\n",
    "# Both of the visualization tools below contain code taken liberally from\n",
    "# https://gist.github.com/akesling/5358964\n",
    "\n",
    "def ascii_show(image):\n",
    "    \"\"\"\n",
    "    Show pixel values in formation\n",
    "    \"\"\"\n",
    "    for y in image[1]:\n",
    "         row = \"\"\n",
    "         for x in y:\n",
    "             row += '{0: <4}'.format(x)\n",
    "         print row\n",
    "        \n",
    "def show(image):\n",
    "    \"\"\"\n",
    "    Render a given numpy.uint8 2D array of pixel data.\n",
    "    \"\"\"\n",
    "    title = \"Image Label : \" + str(image[0])\n",
    "    fig = plt.figure()\n",
    "    plt.title(title)\n",
    "    imgplot1 = plt.imshow(image[1], cmap=mpl.cm.Greys)\n",
    "    imgplot1.set_interpolation('nearest')\n",
    "    plt.show()"
   ]
  },
  {
   "cell_type": "markdown",
   "metadata": {},
   "source": [
    "### Visualize Random Example in Training Data"
   ]
  },
  {
   "cell_type": "code",
   "execution_count": 7,
   "metadata": {},
   "outputs": [
    {
     "data": {
      "image/png": "[encoded data removed]",
      "text/plain": [
       "<matplotlib.figure.Figure at 0x7fd9aae9a890>"
      ]
     },
     "metadata": {},
     "output_type": "display_data"
    },
    {
     "name": "stdout",
     "output_type": "stream",
     "text": [
      "0   0   0   0   0   0   0   0   0   0   0   0   0   0   0   0   0   0   0   0   0   0   0   0   0   0   0   0   \n",
      "0   0   0   0   0   0   0   0   0   0   0   0   0   0   0   0   0   0   0   0   0   0   0   0   0   0   0   0   \n",
      "0   0   0   0   0   0   0   0   0   0   0   0   0   0   0   0   0   0   0   0   0   0   0   0   0   0   0   0   \n",
      "0   0   0   0   0   0   0   0   0   0   0   0   0   0   0   0   0   0   0   0   0   0   0   0   0   0   0   0   \n",
      "0   0   0   0   0   0   0   0   0   0   0   0   0   0   0   0   0   0   0   0   0   0   0   0   0   0   0   0   \n",
      "0   0   0   0   0   0   0   0   0   0   0   0   0   0   0   0   0   0   0   0   0   154 253 56  0   0   0   0   \n",
      "0   0   0   0   0   0   0   0   0   0   0   0   0   0   0   0   0   0   0   19  107 247 171 19  0   0   0   0   \n",
      "0   0   0   0   0   0   0   0   0   0   0   0   0   0   0   0   0   0   0   85  252 238 38  0   0   0   0   0   \n",
      "0   0   0   0   0   0   0   0   0   0   0   0   151 0   0   0   0   0   26  210 252 125 0   0   0   0   0   0   \n",
      "0   0   0   0   0   0   0   0   0   0   0   147 253 188 38  0   0   0   57  253 253 0   0   0   0   0   0   0   \n",
      "0   0   0   0   0   0   0   0   0   0   114 234 252 150 0   0   0   13  169 252 202 0   0   0   0   0   0   0   \n",
      "0   0   0   0   0   0   0   0   0   147 234 252 164 25  0   0   0   13  206 252 115 0   0   0   0   0   0   0   \n",
      "0   0   0   0   0   0   0   89  163 253 227 103 15  0   0   0   0   76  243 214 28  0   0   0   0   0   0   0   \n",
      "0   0   0   0   0   0   7   154 253 255 134 10  29  29  22  23  29  204 253 178 4   0   0   0   0   0   0   0   \n",
      "0   0   0   0   0   0   82  252 252 253 196 197 252 253 234 234 252 253 252 170 9   0   0   0   0   0   0   0   \n",
      "0   0   0   0   0   0   63  196 252 253 252 252 252 253 233 234 252 253 233 88  0   0   0   0   0   0   0   0   \n",
      "0   0   0   0   0   0   0   10  28  91  139 139 139 28  22  97  252 241 59  0   0   0   0   0   0   0   0   0   \n",
      "0   0   0   0   0   0   0   0   0   0   0   0   0   0   7   204 253 151 0   0   0   0   0   0   0   0   0   0   \n",
      "0   0   0   0   0   0   0   0   0   0   0   0   0   7   150 252 202 0   0   0   0   0   0   0   0   0   0   0   \n",
      "0   0   0   0   0   0   0   0   0   0   0   0   0   66  252 224 19  0   0   0   0   0   0   0   0   0   0   0   \n",
      "0   0   0   0   0   0   0   0   0   0   0   0   0   241 252 118 0   0   0   0   0   0   0   0   0   0   0   0   \n",
      "0   0   0   0   0   0   0   0   0   0   0   0   176 254 84  0   0   0   0   0   0   0   0   0   0   0   0   0   \n",
      "0   0   0   0   0   0   0   0   0   0   0   108 243 159 28  0   0   0   0   0   0   0   0   0   0   0   0   0   \n",
      "0   0   0   0   0   0   0   0   0   0   26  197 202 25  0   0   0   0   0   0   0   0   0   0   0   0   0   0   \n",
      "0   0   0   0   0   0   0   0   0   0   101 209 90  0   0   0   0   0   0   0   0   0   0   0   0   0   0   0   \n",
      "0   0   0   0   0   0   0   0   0   0   0   0   0   0   0   0   0   0   0   0   0   0   0   0   0   0   0   0   \n",
      "0   0   0   0   0   0   0   0   0   0   0   0   0   0   0   0   0   0   0   0   0   0   0   0   0   0   0   0   \n",
      "0   0   0   0   0   0   0   0   0   0   0   0   0   0   0   0   0   0   0   0   0   0   0   0   0   0   0   0   \n"
     ]
    }
   ],
   "source": [
    "img = rowconverter(mtrain, randint(0,len(mtrain)))\n",
    "\n",
    "show(img)\n",
    "ascii_show(img)"
   ]
  },
  {
   "cell_type": "markdown",
   "metadata": {},
   "source": [
    "## Build a Simple Classifier\n",
    "\n",
    "We will build a classifier that operates somewhat like a k-means clustering algorithm, but where we know in advance our k and the means of each of our clusters.   We will calculate each of the cluster means by taking the mean value of each pixel for handwritten label class in our training data.    \n",
    "\n",
    "Then we will make our predictions by calculating the distance an image is from each \"cluster\".   \n",
    "\n",
    "### Create Mean Pixel Data for Clustering"
   ]
  },
  {
   "cell_type": "code",
   "execution_count": 8,
   "metadata": {
    "collapsed": true
   },
   "outputs": [],
   "source": [
    "meanClass = mtrain.groupby(['label']).mean()\n",
    "meanClass.reset_index(level=0, inplace=True)"
   ]
  },
  {
   "cell_type": "markdown",
   "metadata": {},
   "source": [
    "### Visualize Mean Results"
   ]
  },
  {
   "cell_type": "code",
   "execution_count": 9,
   "metadata": {},
   "outputs": [
    {
     "data": {
      "image/png": "[encoded data removed]",
      "text/plain": [
       "<matplotlib.figure.Figure at 0x7fd9aad1e810>"
      ]
     },
     "metadata": {},
     "output_type": "display_data"
    }
   ],
   "source": [
    "fig, axarr = plt.subplots(2,5, figsize=(15,8))\n",
    "fig.subplots_adjust(hspace = .05, wspace=.1)\n",
    "axs = axarr.ravel()\n",
    "\n",
    "for i in range(len(meanClass)):\n",
    "    img = rowconverter(meanClass, i)\n",
    "    title = \"Image Label : \" + str(img[0])\n",
    "    axs[i].set_title(title)\n",
    "    imgplot = axs[i].imshow(img[1])\n",
    "    imgplot.set_interpolation('nearest')"
   ]
  },
  {
   "cell_type": "markdown",
   "metadata": {},
   "source": [
    "### Get Distances to our MeanClass\n",
    "\n",
    "#### Euclidean Norm\n",
    "* $m$ = our meanClass dataset\n",
    "* $t$ = a single vector representing an image\n",
    "\n",
    "$||m - t||_2$\n",
    "\n",
    "Here we want the _lowest_ distance to determine the correct prediction. "
   ]
  },
  {
   "cell_type": "code",
   "execution_count": 10,
   "metadata": {
    "collapsed": true
   },
   "outputs": [],
   "source": [
    "def eucDist(single):\n",
    "    \"\"\"\n",
    "    given an image, calculate the Euclidean distance to the values\n",
    "    in our meanClass dataset, and return a prediction and value\n",
    "    \"\"\"\n",
    "    label = np.asscalar(single['label'])\n",
    "\n",
    "    result = pd.DataFrame(meanClass.values - single.values, columns=meanClass.columns)\n",
    "    result.drop(result.columns[[0]], axis=1, inplace=True)\n",
    "\n",
    "    result = np.square(result)\n",
    "    eucdist = np.sqrt(result.sum(axis=1))\n",
    "    eucdist\n",
    "\n",
    "    predict, dist = eucdist.idxmin(), eucdist.min()\n",
    "\n",
    "    \n",
    "    return [label, predict, dist]"
   ]
  },
  {
   "cell_type": "markdown",
   "metadata": {},
   "source": [
    "#### Cosine Distance\n",
    "$\\frac{m \\times t}{||m||_2 \\times ||t||_2}$\n",
    "\n",
    "Here we want the _greatest_ distance value (closest to 1) to determine the correct prediction. "
   ]
  },
  {
   "cell_type": "code",
   "execution_count": 11,
   "metadata": {
    "collapsed": true
   },
   "outputs": [],
   "source": [
    "def cosDist(single):\n",
    "    \"\"\"\n",
    "    given an image, calculate the Cosine distance to the values\n",
    "    in our meanClass dataset, and return a prediction and value\n",
    "    \"\"\"\n",
    "    m = meanClass.copy()  ## should be a cleaner way to do this?\n",
    "    m.drop(m.columns[[0]], axis=1, inplace=True)\n",
    "\n",
    "    label = np.asscalar(single['label'])\n",
    "\n",
    "    t = pd.DataFrame(single)\n",
    "\n",
    "    t.drop(['label'], inplace=True)\n",
    "    tran_t = t.transpose()\n",
    "\n",
    "    numerator = np.dot(m, t).T\n",
    "\n",
    "    m_2 = np.sqrt(np.square(m).sum(axis=1))\n",
    "    t_2 = np.sqrt(np.square(tran_t).sum(axis=1))\n",
    "    \n",
    "    denominator = m_2.values * t_2.values\n",
    "\n",
    "    cosdist = np.divide(numerator, denominator)\n",
    "    predict, dist = np.argmax(cosdist), cosdist.max()\n",
    "    \n",
    "    return [label, predict, dist]"
   ]
  },
  {
   "cell_type": "markdown",
   "metadata": {},
   "source": [
    "### Test by predicting a single image"
   ]
  },
  {
   "cell_type": "code",
   "execution_count": 12,
   "metadata": {},
   "outputs": [
    {
     "name": "stdout",
     "output_type": "stream",
     "text": [
      "Test Class:  7\n",
      "---------------------------------------\n",
      "Euclidean Distance\n",
      "Predicted Class:  7  |  Distance of:  1221.30925287\n",
      "Is this prediction correct:  True\n",
      "---------------------------------------\n",
      "Cosine Distance\n",
      "Predicted Class:  7  |  Distance of:  0.783245174237\n",
      "Is this prediction correct:  True\n"
     ]
    }
   ],
   "source": [
    "img = mtest[0:1]\n",
    "euc_img = img.apply(eucDist, axis=1)\n",
    "cos_img = img.apply(cosDist, axis=1)\n",
    "\n",
    "print \"Test Class: \", euc_img[0][0]\n",
    "print \"---------------------------------------\"\n",
    "print \"Euclidean Distance\"\n",
    "print \"Predicted Class: \", euc_img[0][1], \" |  Distance of: \", euc_img[0][2]\n",
    "print \"Is this prediction correct: \", euc_img[0][1] == euc_img[0][1]\n",
    "print \"---------------------------------------\"\n",
    "print \"Cosine Distance\"\n",
    "print \"Predicted Class: \", cos_img[0][1], \" |  Distance of: \", cos_img[0][2]\n",
    "print \"Is this prediction correct: \", cos_img[0][0] == cos_img[0][1]"
   ]
  },
  {
   "cell_type": "markdown",
   "metadata": {},
   "source": [
    "### Predict all test data"
   ]
  },
  {
   "cell_type": "code",
   "execution_count": 13,
   "metadata": {},
   "outputs": [],
   "source": [
    "euc_results = mtest.apply(eucDist, axis=1)\n",
    "cos_results = mtest.apply(cosDist, axis=1)"
   ]
  },
  {
   "cell_type": "markdown",
   "metadata": {},
   "source": [
    "### Create a single DF"
   ]
  },
  {
   "cell_type": "code",
   "execution_count": 14,
   "metadata": {},
   "outputs": [
    {
     "data": {
      "text/html": [
       "<div>\n",
       "<table border=\"1\" class=\"dataframe\">\n",
       "  <thead>\n",
       "    <tr style=\"text-align: right;\">\n",
       "      <th></th>\n",
       "      <th>label</th>\n",
       "      <th>eucPred</th>\n",
       "      <th>eucDist</th>\n",
       "      <th>cosPred</th>\n",
       "      <th>cosDist</th>\n",
       "      <th>eucCorrect</th>\n",
       "      <th>cosCorrect</th>\n",
       "    </tr>\n",
       "  </thead>\n",
       "  <tbody>\n",
       "    <tr>\n",
       "      <th>0</th>\n",
       "      <td>7</td>\n",
       "      <td>7</td>\n",
       "      <td>1221.309253</td>\n",
       "      <td>7</td>\n",
       "      <td>0.783245</td>\n",
       "      <td>True</td>\n",
       "      <td>True</td>\n",
       "    </tr>\n",
       "    <tr>\n",
       "      <th>1</th>\n",
       "      <td>2</td>\n",
       "      <td>2</td>\n",
       "      <td>2048.531505</td>\n",
       "      <td>2</td>\n",
       "      <td>0.592662</td>\n",
       "      <td>True</td>\n",
       "      <td>True</td>\n",
       "    </tr>\n",
       "    <tr>\n",
       "      <th>2</th>\n",
       "      <td>1</td>\n",
       "      <td>1</td>\n",
       "      <td>897.925426</td>\n",
       "      <td>1</td>\n",
       "      <td>0.792133</td>\n",
       "      <td>True</td>\n",
       "      <td>True</td>\n",
       "    </tr>\n",
       "    <tr>\n",
       "      <th>3</th>\n",
       "      <td>0</td>\n",
       "      <td>0</td>\n",
       "      <td>1568.431748</td>\n",
       "      <td>0</td>\n",
       "      <td>0.850993</td>\n",
       "      <td>True</td>\n",
       "      <td>True</td>\n",
       "    </tr>\n",
       "    <tr>\n",
       "      <th>4</th>\n",
       "      <td>4</td>\n",
       "      <td>4</td>\n",
       "      <td>1533.680576</td>\n",
       "      <td>4</td>\n",
       "      <td>0.657409</td>\n",
       "      <td>True</td>\n",
       "      <td>True</td>\n",
       "    </tr>\n",
       "  </tbody>\n",
       "</table>\n",
       "</div>"
      ],
      "text/plain": [
       "   label  eucPred      eucDist  cosPred   cosDist eucCorrect cosCorrect\n",
       "0      7        7  1221.309253        7  0.783245       True       True\n",
       "1      2        2  2048.531505        2  0.592662       True       True\n",
       "2      1        1   897.925426        1  0.792133       True       True\n",
       "3      0        0  1568.431748        0  0.850993       True       True\n",
       "4      4        4  1533.680576        4  0.657409       True       True"
      ]
     },
     "execution_count": 14,
     "metadata": {},
     "output_type": "execute_result"
    }
   ],
   "source": [
    "eucdf = pd.DataFrame(euc_results, columns=['tags'])\n",
    "eucdf = eucdf['tags'].apply(pd.Series)\n",
    "eucdf.columns = ['label', 'eucPred', 'eucDist']\n",
    "eucdf['label'] = eucdf['label'].astype(int)\n",
    "eucdf['eucPred'] = eucdf['eucPred'].astype(int)\n",
    "\n",
    "cosdf = pd.DataFrame(cos_results, columns = ['tags'])\n",
    "cosdf = cosdf['tags'].apply(pd.Series)\n",
    "cosdf.columns = ['label', 'cosPred', 'cosDist']\n",
    "cosdf['label'] = cosdf['label'].astype(int)\n",
    "cosdf['cosPred'] = cosdf['cosPred'].astype(int)\n",
    "\n",
    "finaldf = pd.concat([eucdf, cosdf], axis=1)\n",
    "finaldf = finaldf.loc[:,~finaldf.columns.duplicated()]\n",
    "\n",
    "finaldf['eucCorrect'] = finaldf['label']==finaldf['eucPred']\n",
    "finaldf['cosCorrect'] = finaldf['label']==finaldf['cosPred']\n",
    "\n",
    "finaldf.head(5)"
   ]
  },
  {
   "cell_type": "markdown",
   "metadata": {},
   "source": [
    "## Describe Model Performance\n",
    "\n",
    "Since this is a multi-class classifier, we will start by describing the overall accuracy of our classifier.   This will essentially be a binary.   Either it predicted correctly or it did not. \n",
    "\n",
    "The we will delve deeper to determine which numbers our baby model predicted correctly, the precision, recall and F1 scores for each class, and review and plot confusion matrices to better understand our classifier behavior.\n",
    "\n",
    "### Get Overall Error Rate"
   ]
  },
  {
   "cell_type": "code",
   "execution_count": 15,
   "metadata": {},
   "outputs": [
    {
     "name": "stdout",
     "output_type": "stream",
     "text": [
      "Euclidean Distance\n",
      "Error rate:  0.1797 | Correct:  0.8203\n",
      "---------------------------------------\n",
      "Cosine Distance\n",
      "Error rate:  0.1784 | Correct:  0.8216\n"
     ]
    }
   ],
   "source": [
    "eucCorrect = np.sum(finaldf.eucCorrect)\n",
    "eucErr = 1 - (eucCorrect / float(len(mtest)))\n",
    "\n",
    "cosCorrect = np.sum(finaldf.cosCorrect)\n",
    "cosErr = 1 - (cosCorrect / float(len(mtest)))\n",
    "\n",
    "print \"Euclidean Distance\"\n",
    "print \"Error rate: \", eucErr, \"| Correct: \", 1-eucErr\n",
    "print \"---------------------------------------\"\n",
    "print \"Cosine Distance\"\n",
    "print \"Error rate: \", cosErr, \"| Correct: \", 1-cosErr"
   ]
  },
  {
   "cell_type": "markdown",
   "metadata": {},
   "source": [
    "### Accuracy by Number/Class"
   ]
  },
  {
   "cell_type": "code",
   "execution_count": 16,
   "metadata": {},
   "outputs": [],
   "source": [
    "eucCross = pd.crosstab(finaldf[\"label\"], finaldf[\"eucCorrect\"], margins=True, normalize='index')\n",
    "cosCross = pd.crosstab(finaldf[\"label\"], finaldf[\"cosCorrect\"], margins=True, normalize='index')"
   ]
  },
  {
   "cell_type": "code",
   "execution_count": 17,
   "metadata": {},
   "outputs": [
    {
     "data": {
      "image/png": "[encoded data removed]",
      "text/plain": [
       "<matplotlib.figure.Figure at 0x7fd9a55863d0>"
      ]
     },
     "metadata": {},
     "output_type": "display_data"
    }
   ],
   "source": [
    "fig, axs = plt.subplots(1,2, figsize=(15, 6))\n",
    "cosCross.plot(kind=\"bar\", stacked=True, ax=axs[0])\n",
    "axs[0].set_title(\"Cosine\")\n",
    "eucCross.plot(kind=\"bar\", stacked=True, ax=axs[1])\n",
    "axs[1].set_title(\"Euclidean\")\n",
    "axs[0].set_ylabel(\"Proportion\")\n",
    "axs[0].legend_.remove()\n",
    "axs[1].legend(loc='center left', bbox_to_anchor=(1, 0.5))\n",
    "fig.suptitle('Accuracy of Distance Measures', fontsize='xx-large', fontweight='bold')\n",
    "plt.show()"
   ]
  },
  {
   "cell_type": "markdown",
   "metadata": {},
   "source": [
    "### Confusion Matrix"
   ]
  },
  {
   "cell_type": "code",
   "execution_count": 18,
   "metadata": {
    "collapsed": true
   },
   "outputs": [],
   "source": [
    "def plot_confusion_matrix(df_confusion, title):\n",
    "    \"\"\"\n",
    "    plot a crosstab confusion matrix using matplotlib. \n",
    "    taken from example at: \n",
    "    http://stackoverflow.com/questions/2148543/how-to-write-a-confusion-matrix-in-python\n",
    "    \"\"\"\n",
    "    plt.figure(figsize=(8,8))\n",
    "    plt.matshow(df_confusion, cmap='coolwarm', fignum=1)\n",
    "    plt.title(title, fontweight='bold', y=1.08)\n",
    "    plt.colorbar()\n",
    "    tick_marks = np.arange(len(df_confusion.columns))\n",
    "    plt.xticks(tick_marks, df_confusion.columns, rotation=45)\n",
    "    plt.yticks(tick_marks, df_confusion.index)\n",
    "    plt.ylabel(df_confusion.index.name)\n",
    "    plt.xlabel(df_confusion.columns.name)"
   ]
  },
  {
   "cell_type": "code",
   "execution_count": 19,
   "metadata": {},
   "outputs": [
    {
     "data": {
      "text/html": [
       "<div>\n",
       "<table border=\"1\" class=\"dataframe\">\n",
       "  <thead>\n",
       "    <tr style=\"text-align: right;\">\n",
       "      <th>eucPred</th>\n",
       "      <th>0</th>\n",
       "      <th>1</th>\n",
       "      <th>2</th>\n",
       "      <th>3</th>\n",
       "      <th>4</th>\n",
       "      <th>5</th>\n",
       "      <th>6</th>\n",
       "      <th>7</th>\n",
       "      <th>8</th>\n",
       "      <th>9</th>\n",
       "    </tr>\n",
       "    <tr>\n",
       "      <th>label</th>\n",
       "      <th></th>\n",
       "      <th></th>\n",
       "      <th></th>\n",
       "      <th></th>\n",
       "      <th></th>\n",
       "      <th></th>\n",
       "      <th></th>\n",
       "      <th></th>\n",
       "      <th></th>\n",
       "      <th></th>\n",
       "    </tr>\n",
       "  </thead>\n",
       "  <tbody>\n",
       "    <tr>\n",
       "      <th>0</th>\n",
       "      <td>878</td>\n",
       "      <td>0</td>\n",
       "      <td>7</td>\n",
       "      <td>2</td>\n",
       "      <td>2</td>\n",
       "      <td>58</td>\n",
       "      <td>25</td>\n",
       "      <td>1</td>\n",
       "      <td>7</td>\n",
       "      <td>0</td>\n",
       "    </tr>\n",
       "    <tr>\n",
       "      <th>1</th>\n",
       "      <td>0</td>\n",
       "      <td>1092</td>\n",
       "      <td>10</td>\n",
       "      <td>3</td>\n",
       "      <td>0</td>\n",
       "      <td>7</td>\n",
       "      <td>3</td>\n",
       "      <td>0</td>\n",
       "      <td>20</td>\n",
       "      <td>0</td>\n",
       "    </tr>\n",
       "    <tr>\n",
       "      <th>2</th>\n",
       "      <td>19</td>\n",
       "      <td>71</td>\n",
       "      <td>781</td>\n",
       "      <td>33</td>\n",
       "      <td>31</td>\n",
       "      <td>3</td>\n",
       "      <td>23</td>\n",
       "      <td>18</td>\n",
       "      <td>50</td>\n",
       "      <td>3</td>\n",
       "    </tr>\n",
       "    <tr>\n",
       "      <th>3</th>\n",
       "      <td>4</td>\n",
       "      <td>24</td>\n",
       "      <td>25</td>\n",
       "      <td>814</td>\n",
       "      <td>1</td>\n",
       "      <td>49</td>\n",
       "      <td>8</td>\n",
       "      <td>15</td>\n",
       "      <td>58</td>\n",
       "      <td>12</td>\n",
       "    </tr>\n",
       "    <tr>\n",
       "      <th>4</th>\n",
       "      <td>1</td>\n",
       "      <td>22</td>\n",
       "      <td>2</td>\n",
       "      <td>0</td>\n",
       "      <td>811</td>\n",
       "      <td>3</td>\n",
       "      <td>16</td>\n",
       "      <td>1</td>\n",
       "      <td>10</td>\n",
       "      <td>116</td>\n",
       "    </tr>\n",
       "    <tr>\n",
       "      <th>5</th>\n",
       "      <td>11</td>\n",
       "      <td>63</td>\n",
       "      <td>2</td>\n",
       "      <td>118</td>\n",
       "      <td>21</td>\n",
       "      <td>612</td>\n",
       "      <td>27</td>\n",
       "      <td>10</td>\n",
       "      <td>13</td>\n",
       "      <td>15</td>\n",
       "    </tr>\n",
       "    <tr>\n",
       "      <th>6</th>\n",
       "      <td>18</td>\n",
       "      <td>27</td>\n",
       "      <td>22</td>\n",
       "      <td>0</td>\n",
       "      <td>31</td>\n",
       "      <td>32</td>\n",
       "      <td>827</td>\n",
       "      <td>0</td>\n",
       "      <td>1</td>\n",
       "      <td>0</td>\n",
       "    </tr>\n",
       "    <tr>\n",
       "      <th>7</th>\n",
       "      <td>2</td>\n",
       "      <td>59</td>\n",
       "      <td>22</td>\n",
       "      <td>1</td>\n",
       "      <td>20</td>\n",
       "      <td>2</td>\n",
       "      <td>0</td>\n",
       "      <td>856</td>\n",
       "      <td>13</td>\n",
       "      <td>53</td>\n",
       "    </tr>\n",
       "    <tr>\n",
       "      <th>8</th>\n",
       "      <td>14</td>\n",
       "      <td>39</td>\n",
       "      <td>11</td>\n",
       "      <td>83</td>\n",
       "      <td>12</td>\n",
       "      <td>36</td>\n",
       "      <td>13</td>\n",
       "      <td>10</td>\n",
       "      <td>718</td>\n",
       "      <td>38</td>\n",
       "    </tr>\n",
       "    <tr>\n",
       "      <th>9</th>\n",
       "      <td>15</td>\n",
       "      <td>22</td>\n",
       "      <td>7</td>\n",
       "      <td>10</td>\n",
       "      <td>83</td>\n",
       "      <td>12</td>\n",
       "      <td>1</td>\n",
       "      <td>27</td>\n",
       "      <td>18</td>\n",
       "      <td>814</td>\n",
       "    </tr>\n",
       "  </tbody>\n",
       "</table>\n",
       "</div>"
      ],
      "text/plain": [
       "eucPred    0     1    2    3    4    5    6    7    8    9\n",
       "label                                                     \n",
       "0        878     0    7    2    2   58   25    1    7    0\n",
       "1          0  1092   10    3    0    7    3    0   20    0\n",
       "2         19    71  781   33   31    3   23   18   50    3\n",
       "3          4    24   25  814    1   49    8   15   58   12\n",
       "4          1    22    2    0  811    3   16    1   10  116\n",
       "5         11    63    2  118   21  612   27   10   13   15\n",
       "6         18    27   22    0   31   32  827    0    1    0\n",
       "7          2    59   22    1   20    2    0  856   13   53\n",
       "8         14    39   11   83   12   36   13   10  718   38\n",
       "9         15    22    7   10   83   12    1   27   18  814"
      ]
     },
     "execution_count": 19,
     "metadata": {},
     "output_type": "execute_result"
    },
    {
     "data": {
      "image/png": "[encoded data removed]",
      "text/plain": [
       "<matplotlib.figure.Figure at 0x7fd9a6914650>"
      ]
     },
     "metadata": {},
     "output_type": "display_data"
    }
   ],
   "source": [
    "eucConf = pd.crosstab(finaldf['label'], finaldf['eucPred'])\n",
    "eucConf_norm = pd.crosstab(finaldf['label'], finaldf['eucPred'], normalize='index')\n",
    "plot_confusion_matrix(eucConf_norm, \"Euclidean Distance\")\n",
    "eucConf"
   ]
  },
  {
   "cell_type": "code",
   "execution_count": 20,
   "metadata": {},
   "outputs": [
    {
     "data": {
      "text/html": [
       "<div>\n",
       "<table border=\"1\" class=\"dataframe\">\n",
       "  <thead>\n",
       "    <tr style=\"text-align: right;\">\n",
       "      <th>cosPred</th>\n",
       "      <th>0</th>\n",
       "      <th>1</th>\n",
       "      <th>2</th>\n",
       "      <th>3</th>\n",
       "      <th>4</th>\n",
       "      <th>5</th>\n",
       "      <th>6</th>\n",
       "      <th>7</th>\n",
       "      <th>8</th>\n",
       "      <th>9</th>\n",
       "    </tr>\n",
       "    <tr>\n",
       "      <th>label</th>\n",
       "      <th></th>\n",
       "      <th></th>\n",
       "      <th></th>\n",
       "      <th></th>\n",
       "      <th></th>\n",
       "      <th></th>\n",
       "      <th></th>\n",
       "      <th></th>\n",
       "      <th></th>\n",
       "      <th></th>\n",
       "    </tr>\n",
       "  </thead>\n",
       "  <tbody>\n",
       "    <tr>\n",
       "      <th>0</th>\n",
       "      <td>903</td>\n",
       "      <td>0</td>\n",
       "      <td>6</td>\n",
       "      <td>3</td>\n",
       "      <td>0</td>\n",
       "      <td>33</td>\n",
       "      <td>24</td>\n",
       "      <td>1</td>\n",
       "      <td>10</td>\n",
       "      <td>0</td>\n",
       "    </tr>\n",
       "    <tr>\n",
       "      <th>1</th>\n",
       "      <td>0</td>\n",
       "      <td>1065</td>\n",
       "      <td>8</td>\n",
       "      <td>5</td>\n",
       "      <td>0</td>\n",
       "      <td>4</td>\n",
       "      <td>4</td>\n",
       "      <td>0</td>\n",
       "      <td>49</td>\n",
       "      <td>0</td>\n",
       "    </tr>\n",
       "    <tr>\n",
       "      <th>2</th>\n",
       "      <td>27</td>\n",
       "      <td>35</td>\n",
       "      <td>789</td>\n",
       "      <td>45</td>\n",
       "      <td>25</td>\n",
       "      <td>0</td>\n",
       "      <td>32</td>\n",
       "      <td>15</td>\n",
       "      <td>59</td>\n",
       "      <td>5</td>\n",
       "    </tr>\n",
       "    <tr>\n",
       "      <th>3</th>\n",
       "      <td>6</td>\n",
       "      <td>4</td>\n",
       "      <td>26</td>\n",
       "      <td>851</td>\n",
       "      <td>1</td>\n",
       "      <td>30</td>\n",
       "      <td>8</td>\n",
       "      <td>13</td>\n",
       "      <td>53</td>\n",
       "      <td>18</td>\n",
       "    </tr>\n",
       "    <tr>\n",
       "      <th>4</th>\n",
       "      <td>6</td>\n",
       "      <td>10</td>\n",
       "      <td>3</td>\n",
       "      <td>0</td>\n",
       "      <td>792</td>\n",
       "      <td>1</td>\n",
       "      <td>23</td>\n",
       "      <td>1</td>\n",
       "      <td>20</td>\n",
       "      <td>126</td>\n",
       "    </tr>\n",
       "    <tr>\n",
       "      <th>5</th>\n",
       "      <td>30</td>\n",
       "      <td>25</td>\n",
       "      <td>13</td>\n",
       "      <td>135</td>\n",
       "      <td>19</td>\n",
       "      <td>574</td>\n",
       "      <td>26</td>\n",
       "      <td>10</td>\n",
       "      <td>38</td>\n",
       "      <td>22</td>\n",
       "    </tr>\n",
       "    <tr>\n",
       "      <th>6</th>\n",
       "      <td>30</td>\n",
       "      <td>13</td>\n",
       "      <td>20</td>\n",
       "      <td>1</td>\n",
       "      <td>17</td>\n",
       "      <td>24</td>\n",
       "      <td>845</td>\n",
       "      <td>0</td>\n",
       "      <td>8</td>\n",
       "      <td>0</td>\n",
       "    </tr>\n",
       "    <tr>\n",
       "      <th>7</th>\n",
       "      <td>8</td>\n",
       "      <td>48</td>\n",
       "      <td>25</td>\n",
       "      <td>0</td>\n",
       "      <td>17</td>\n",
       "      <td>0</td>\n",
       "      <td>1</td>\n",
       "      <td>849</td>\n",
       "      <td>24</td>\n",
       "      <td>56</td>\n",
       "    </tr>\n",
       "    <tr>\n",
       "      <th>8</th>\n",
       "      <td>8</td>\n",
       "      <td>18</td>\n",
       "      <td>12</td>\n",
       "      <td>91</td>\n",
       "      <td>10</td>\n",
       "      <td>30</td>\n",
       "      <td>17</td>\n",
       "      <td>10</td>\n",
       "      <td>742</td>\n",
       "      <td>36</td>\n",
       "    </tr>\n",
       "    <tr>\n",
       "      <th>9</th>\n",
       "      <td>19</td>\n",
       "      <td>15</td>\n",
       "      <td>7</td>\n",
       "      <td>12</td>\n",
       "      <td>84</td>\n",
       "      <td>11</td>\n",
       "      <td>2</td>\n",
       "      <td>28</td>\n",
       "      <td>25</td>\n",
       "      <td>806</td>\n",
       "    </tr>\n",
       "  </tbody>\n",
       "</table>\n",
       "</div>"
      ],
      "text/plain": [
       "cosPred    0     1    2    3    4    5    6    7    8    9\n",
       "label                                                     \n",
       "0        903     0    6    3    0   33   24    1   10    0\n",
       "1          0  1065    8    5    0    4    4    0   49    0\n",
       "2         27    35  789   45   25    0   32   15   59    5\n",
       "3          6     4   26  851    1   30    8   13   53   18\n",
       "4          6    10    3    0  792    1   23    1   20  126\n",
       "5         30    25   13  135   19  574   26   10   38   22\n",
       "6         30    13   20    1   17   24  845    0    8    0\n",
       "7          8    48   25    0   17    0    1  849   24   56\n",
       "8          8    18   12   91   10   30   17   10  742   36\n",
       "9         19    15    7   12   84   11    2   28   25  806"
      ]
     },
     "execution_count": 20,
     "metadata": {},
     "output_type": "execute_result"
    },
    {
     "data": {
      "image/png": "[encoded data removed]",
      "text/plain": [
       "<matplotlib.figure.Figure at 0x7fd9a57dbbd0>"
      ]
     },
     "metadata": {},
     "output_type": "display_data"
    }
   ],
   "source": [
    "cosConf = pd.crosstab(finaldf['label'], finaldf['cosPred'])\n",
    "cosConf_norm = pd.crosstab(finaldf['label'], finaldf['cosPred'], normalize='index')\n",
    "plot_confusion_matrix(cosConf_norm, \"Cosine Distance\")\n",
    "cosConf"
   ]
  },
  {
   "cell_type": "code",
   "execution_count": 21,
   "metadata": {},
   "outputs": [
    {
     "data": {
      "text/html": [
       "<div>\n",
       "<table border=\"1\" class=\"dataframe\">\n",
       "  <thead>\n",
       "    <tr style=\"text-align: right;\">\n",
       "      <th></th>\n",
       "      <th>tp_euc</th>\n",
       "      <th>fp_euc</th>\n",
       "      <th>fn_euc</th>\n",
       "      <th>prec_euc</th>\n",
       "      <th>rec_euc</th>\n",
       "      <th>f1_euc</th>\n",
       "      <th>tp_cos</th>\n",
       "      <th>fp_cos</th>\n",
       "      <th>fn_cos</th>\n",
       "      <th>prec_cos</th>\n",
       "      <th>rec_cos</th>\n",
       "      <th>f1_cos</th>\n",
       "    </tr>\n",
       "  </thead>\n",
       "  <tbody>\n",
       "    <tr>\n",
       "      <th>0</th>\n",
       "      <td>878</td>\n",
       "      <td>84</td>\n",
       "      <td>102</td>\n",
       "      <td>0.912682</td>\n",
       "      <td>0.895918</td>\n",
       "      <td>0.904222</td>\n",
       "      <td>903</td>\n",
       "      <td>134</td>\n",
       "      <td>77</td>\n",
       "      <td>0.870781</td>\n",
       "      <td>0.921429</td>\n",
       "      <td>0.895389</td>\n",
       "    </tr>\n",
       "    <tr>\n",
       "      <th>1</th>\n",
       "      <td>1092</td>\n",
       "      <td>327</td>\n",
       "      <td>43</td>\n",
       "      <td>0.769556</td>\n",
       "      <td>0.962115</td>\n",
       "      <td>0.855129</td>\n",
       "      <td>1065</td>\n",
       "      <td>168</td>\n",
       "      <td>70</td>\n",
       "      <td>0.863747</td>\n",
       "      <td>0.938326</td>\n",
       "      <td>0.899493</td>\n",
       "    </tr>\n",
       "    <tr>\n",
       "      <th>2</th>\n",
       "      <td>781</td>\n",
       "      <td>108</td>\n",
       "      <td>251</td>\n",
       "      <td>0.878515</td>\n",
       "      <td>0.756783</td>\n",
       "      <td>0.813118</td>\n",
       "      <td>789</td>\n",
       "      <td>120</td>\n",
       "      <td>243</td>\n",
       "      <td>0.867987</td>\n",
       "      <td>0.764535</td>\n",
       "      <td>0.812983</td>\n",
       "    </tr>\n",
       "    <tr>\n",
       "      <th>3</th>\n",
       "      <td>814</td>\n",
       "      <td>250</td>\n",
       "      <td>196</td>\n",
       "      <td>0.765038</td>\n",
       "      <td>0.805941</td>\n",
       "      <td>0.784957</td>\n",
       "      <td>851</td>\n",
       "      <td>292</td>\n",
       "      <td>159</td>\n",
       "      <td>0.744532</td>\n",
       "      <td>0.842574</td>\n",
       "      <td>0.790525</td>\n",
       "    </tr>\n",
       "    <tr>\n",
       "      <th>4</th>\n",
       "      <td>811</td>\n",
       "      <td>201</td>\n",
       "      <td>171</td>\n",
       "      <td>0.801383</td>\n",
       "      <td>0.825866</td>\n",
       "      <td>0.813440</td>\n",
       "      <td>792</td>\n",
       "      <td>173</td>\n",
       "      <td>190</td>\n",
       "      <td>0.820725</td>\n",
       "      <td>0.806517</td>\n",
       "      <td>0.813559</td>\n",
       "    </tr>\n",
       "    <tr>\n",
       "      <th>5</th>\n",
       "      <td>612</td>\n",
       "      <td>202</td>\n",
       "      <td>280</td>\n",
       "      <td>0.751843</td>\n",
       "      <td>0.686099</td>\n",
       "      <td>0.717468</td>\n",
       "      <td>574</td>\n",
       "      <td>133</td>\n",
       "      <td>318</td>\n",
       "      <td>0.811881</td>\n",
       "      <td>0.643498</td>\n",
       "      <td>0.717949</td>\n",
       "    </tr>\n",
       "    <tr>\n",
       "      <th>6</th>\n",
       "      <td>827</td>\n",
       "      <td>116</td>\n",
       "      <td>131</td>\n",
       "      <td>0.876988</td>\n",
       "      <td>0.863257</td>\n",
       "      <td>0.870068</td>\n",
       "      <td>845</td>\n",
       "      <td>137</td>\n",
       "      <td>113</td>\n",
       "      <td>0.860489</td>\n",
       "      <td>0.882046</td>\n",
       "      <td>0.871134</td>\n",
       "    </tr>\n",
       "    <tr>\n",
       "      <th>7</th>\n",
       "      <td>856</td>\n",
       "      <td>82</td>\n",
       "      <td>172</td>\n",
       "      <td>0.912580</td>\n",
       "      <td>0.832685</td>\n",
       "      <td>0.870804</td>\n",
       "      <td>849</td>\n",
       "      <td>78</td>\n",
       "      <td>179</td>\n",
       "      <td>0.915858</td>\n",
       "      <td>0.825875</td>\n",
       "      <td>0.868542</td>\n",
       "    </tr>\n",
       "    <tr>\n",
       "      <th>8</th>\n",
       "      <td>718</td>\n",
       "      <td>190</td>\n",
       "      <td>256</td>\n",
       "      <td>0.790749</td>\n",
       "      <td>0.737166</td>\n",
       "      <td>0.763018</td>\n",
       "      <td>742</td>\n",
       "      <td>286</td>\n",
       "      <td>232</td>\n",
       "      <td>0.721790</td>\n",
       "      <td>0.761807</td>\n",
       "      <td>0.741259</td>\n",
       "    </tr>\n",
       "    <tr>\n",
       "      <th>9</th>\n",
       "      <td>814</td>\n",
       "      <td>237</td>\n",
       "      <td>195</td>\n",
       "      <td>0.774500</td>\n",
       "      <td>0.806739</td>\n",
       "      <td>0.790291</td>\n",
       "      <td>806</td>\n",
       "      <td>263</td>\n",
       "      <td>203</td>\n",
       "      <td>0.753976</td>\n",
       "      <td>0.798811</td>\n",
       "      <td>0.775746</td>\n",
       "    </tr>\n",
       "  </tbody>\n",
       "</table>\n",
       "</div>"
      ],
      "text/plain": [
       "   tp_euc  fp_euc  fn_euc  prec_euc   rec_euc    f1_euc  tp_cos  fp_cos  \\\n",
       "0     878      84     102  0.912682  0.895918  0.904222     903     134   \n",
       "1    1092     327      43  0.769556  0.962115  0.855129    1065     168   \n",
       "2     781     108     251  0.878515  0.756783  0.813118     789     120   \n",
       "3     814     250     196  0.765038  0.805941  0.784957     851     292   \n",
       "4     811     201     171  0.801383  0.825866  0.813440     792     173   \n",
       "5     612     202     280  0.751843  0.686099  0.717468     574     133   \n",
       "6     827     116     131  0.876988  0.863257  0.870068     845     137   \n",
       "7     856      82     172  0.912580  0.832685  0.870804     849      78   \n",
       "8     718     190     256  0.790749  0.737166  0.763018     742     286   \n",
       "9     814     237     195  0.774500  0.806739  0.790291     806     263   \n",
       "\n",
       "   fn_cos  prec_cos   rec_cos    f1_cos  \n",
       "0      77  0.870781  0.921429  0.895389  \n",
       "1      70  0.863747  0.938326  0.899493  \n",
       "2     243  0.867987  0.764535  0.812983  \n",
       "3     159  0.744532  0.842574  0.790525  \n",
       "4     190  0.820725  0.806517  0.813559  \n",
       "5     318  0.811881  0.643498  0.717949  \n",
       "6     113  0.860489  0.882046  0.871134  \n",
       "7     179  0.915858  0.825875  0.868542  \n",
       "8     232  0.721790  0.761807  0.741259  \n",
       "9     203  0.753976  0.798811  0.775746  "
      ]
     },
     "execution_count": 21,
     "metadata": {},
     "output_type": "execute_result"
    }
   ],
   "source": [
    "def getmetrics(df, i):\n",
    "    \"\"\"\n",
    "    given a confusion matrix, return multiple metrics for a given label\n",
    "    tp = true positive, fp = false positive, fn = false negative\n",
    "    precision recall and f1 scores\n",
    "    \"\"\"\n",
    "    tp = df.iat[i,i]\n",
    "    fp = df[i].sum() - tp\n",
    "    fn = df.iloc[i,:].sum() - tp\n",
    "    precision = float(tp) / (tp + fp)\n",
    "    recall = float(tp) / (tp + fn)\n",
    "    f1 = 2 * (precision * recall) / (precision + recall)\n",
    "    return [tp, fp, fn, precision, recall, f1]\n",
    "\n",
    "x = []\n",
    "for index, row in eucConf.iterrows():\n",
    "    x.append(getmetrics(eucConf, index))\n",
    "eucResults = pd.DataFrame(x, columns=['tp', 'fp', 'fn', 'prec', 'rec', 'f1'])\n",
    "eucResults\n",
    "\n",
    "y = []\n",
    "for index, row in cosConf.iterrows():\n",
    "    y.append(getmetrics(cosConf, index))\n",
    "cosResults = pd.DataFrame(y, columns=['tp', 'fp', 'fn', 'prec', 'rec', 'f1'])\n",
    "cosResults\n",
    "\n",
    "overall = eucResults.merge(cosResults, right_index=True, left_index=True, suffixes=(\"_euc\", \"_cos\"))\n",
    "overall"
   ]
  },
  {
   "cell_type": "markdown",
   "metadata": {},
   "source": [
    "## Conclusion\n",
    "\n",
    "Our classifier performance is poor, mis-classifying about 18% of the test images, regardless of which distance metric is used.   Each distance metric performs similarly, with the Cosine distance metric performing slightly better than Euclidean distance. \n",
    "\n",
    "We can see that some digits are harder to classify than others.   5 had the highest overall error rate, so let's look at a few of the '5's that were inaccurately classified.    "
   ]
  },
  {
   "cell_type": "code",
   "execution_count": 22,
   "metadata": {},
   "outputs": [
    {
     "data": {
      "text/html": [
       "<div>\n",
       "<table border=\"1\" class=\"dataframe\">\n",
       "  <thead>\n",
       "    <tr style=\"text-align: right;\">\n",
       "      <th></th>\n",
       "      <th>label</th>\n",
       "      <th>eucPred</th>\n",
       "      <th>eucDist</th>\n",
       "      <th>cosPred</th>\n",
       "      <th>cosDist</th>\n",
       "      <th>eucCorrect</th>\n",
       "      <th>cosCorrect</th>\n",
       "    </tr>\n",
       "  </thead>\n",
       "  <tbody>\n",
       "    <tr>\n",
       "      <th>8</th>\n",
       "      <td>5</td>\n",
       "      <td>2</td>\n",
       "      <td>2055.839688</td>\n",
       "      <td>2</td>\n",
       "      <td>0.619392</td>\n",
       "      <td>False</td>\n",
       "      <td>False</td>\n",
       "    </tr>\n",
       "    <tr>\n",
       "      <th>120</th>\n",
       "      <td>5</td>\n",
       "      <td>3</td>\n",
       "      <td>1752.406738</td>\n",
       "      <td>3</td>\n",
       "      <td>0.813935</td>\n",
       "      <td>False</td>\n",
       "      <td>False</td>\n",
       "    </tr>\n",
       "    <tr>\n",
       "      <th>165</th>\n",
       "      <td>5</td>\n",
       "      <td>3</td>\n",
       "      <td>1794.977325</td>\n",
       "      <td>3</td>\n",
       "      <td>0.723958</td>\n",
       "      <td>False</td>\n",
       "      <td>False</td>\n",
       "    </tr>\n",
       "    <tr>\n",
       "      <th>167</th>\n",
       "      <td>5</td>\n",
       "      <td>4</td>\n",
       "      <td>1752.578528</td>\n",
       "      <td>4</td>\n",
       "      <td>0.521268</td>\n",
       "      <td>False</td>\n",
       "      <td>False</td>\n",
       "    </tr>\n",
       "    <tr>\n",
       "      <th>187</th>\n",
       "      <td>5</td>\n",
       "      <td>3</td>\n",
       "      <td>1646.097121</td>\n",
       "      <td>3</td>\n",
       "      <td>0.739478</td>\n",
       "      <td>False</td>\n",
       "      <td>False</td>\n",
       "    </tr>\n",
       "  </tbody>\n",
       "</table>\n",
       "</div>"
      ],
      "text/plain": [
       "     label  eucPred      eucDist  cosPred   cosDist eucCorrect cosCorrect\n",
       "8        5        2  2055.839688        2  0.619392      False      False\n",
       "120      5        3  1752.406738        3  0.813935      False      False\n",
       "165      5        3  1794.977325        3  0.723958      False      False\n",
       "167      5        4  1752.578528        4  0.521268      False      False\n",
       "187      5        3  1646.097121        3  0.739478      False      False"
      ]
     },
     "execution_count": 22,
     "metadata": {},
     "output_type": "execute_result"
    }
   ],
   "source": [
    "foo = finaldf.ix[(finaldf['label']==5) & (finaldf['eucCorrect'] == False) & (finaldf['cosCorrect'] == False)]\n",
    "foo.head(5)"
   ]
  },
  {
   "cell_type": "code",
   "execution_count": 23,
   "metadata": {},
   "outputs": [
    {
     "name": "stdout",
     "output_type": "stream",
     "text": [
      "Predicted: 2\n"
     ]
    },
    {
     "data": {
      "image/png": "[encoded data removed]",
      "text/plain": [
       "<matplotlib.figure.Figure at 0x7fd9a58af110>"
      ]
     },
     "metadata": {},
     "output_type": "display_data"
    },
    {
     "name": "stdout",
     "output_type": "stream",
     "text": [
      "Predicted: 4\n"
     ]
    },
    {
     "data": {
      "image/png": "[encoded data removed]",
      "text/plain": [
       "<matplotlib.figure.Figure at 0x7fd9a620e0d0>"
      ]
     },
     "metadata": {},
     "output_type": "display_data"
    }
   ],
   "source": [
    "print \"Predicted: 2\"\n",
    "show(rowconverter(mtest, 8))\n",
    "print \"Predicted: 4\"\n",
    "show(rowconverter(mtest, 167))"
   ]
  },
  {
   "cell_type": "markdown",
   "metadata": {},
   "source": [
    "While our performance is significantly lower than the test errors reported by [Lecun, Cortes, and Burges](http://yann.lecun.com/exdb/mnist/) using basic classifiers, choosing this 'mean pixel' method provided a good opportunity to reinforce skills handling datasets in python, visualization tools, linear algebra, and model performance.  "
   ]
  },
  {
   "cell_type": "markdown",
   "metadata": {},
   "source": [
    "## References\n",
    "* [When Life is Linear, Tim Chartier](http://www.maa.org/press/ebooks/when-life-is-linear-from-computer-graphics-to-bracketology)\n",
    "* https://www.kaggle.com/archaeocharlie/digit-recognizer/a-beginner-s-approach-to-classification\n",
    "* https://gist.github.com/akesling/5358964\n",
    "* http://colah.github.io/posts/2014-10-Visualizing-MNIST/\n",
    "* http://stackoverflow.com/questions/17210646/python-subplot-within-a-loop-first-panel-appears-in-wrong-position\n",
    "* https://en.wikipedia.org/wiki/Cosine_similarity\n",
    "* https://en.wikipedia.org/wiki/Euclidean_distance\n",
    "* http://stackoverflow.com/questions/14984119/python-pandas-remove-duplicate-columns\n",
    "* https://www.analyticsvidhya.com/blog/2016/01/12-pandas-techniques-python-data-manipulation/\n",
    "* http://stackoverflow.com/questions/2148543/how-to-write-a-confusion-matrix-in-python\n",
    "* https://matplotlib.org/users/colormaps.html\n",
    "* https://stats.stackexchange.com/questions/21551/how-to-compute-precision-recall-for-multiclass-multilabel-classification\n",
    "* https://stats.stackexchange.com/questions/160380/are-the-total-false-positives-and-false-negatives-of-a-large-confusion-matrix-eq\n",
    "* http://yann.lecun.com/exdb/publis/pdf/lecun-95b.pdf"
   ]
  }
 ],
 "metadata": {
  "kernelspec": {
   "display_name": "Python 2",
   "language": "python",
   "name": "python2"
  },
  "language_info": {
   "codemirror_mode": {
    "name": "ipython",
    "version": 2
   },
   "file_extension": ".py",
   "mimetype": "text/x-python",
   "name": "python",
   "nbconvert_exporter": "python",
   "pygments_lexer": "ipython2",
   "version": "2.7.13"
  }
 },
 "nbformat": 4,
 "nbformat_minor": 2
}
