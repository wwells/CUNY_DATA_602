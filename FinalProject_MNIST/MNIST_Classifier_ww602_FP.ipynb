{
 "cells": [
  {
   "cell_type": "markdown",
   "metadata": {},
   "source": [
    "# Final Project:   MNIST Classifiers\n",
    "\n",
    "CUNY MSDA - DATA 602: Advanced Programming Techniques<br>\n",
    "_Author - Walt Wells_\n",
    "\n",
    "## Resources\n",
    "\n",
    "Some words about the OSDC...\n",
    "\n",
    "## Environment Prep"
   ]
  },
  {
   "cell_type": "code",
   "execution_count": 1,
   "metadata": {
    "collapsed": true
   },
   "outputs": [],
   "source": [
    "import os\n",
    "import struct\n",
    "import pandas as pd\n",
    "import numpy as np\n",
    "import itertools\n",
    "import seaborn as sns\n",
    "import matplotlib as mpl\n",
    "import matplotlib.pyplot as plt\n",
    "from random import randint\n",
    "%matplotlib inline"
   ]
  },
  {
   "cell_type": "markdown",
   "metadata": {},
   "source": [
    "## Data Import and Preparation"
   ]
  },
  {
   "cell_type": "code",
   "execution_count": 2,
   "metadata": {},
   "outputs": [],
   "source": [
    "def read(dataset = \"training\", path = \".\"):\n",
    "    \"\"\"\n",
    "    Python function for importing the MNIST data set as a pandas data frame. \n",
    "    The first column is the label/class, the other 784 columns are the pixel values.  \n",
    "    Uses code liberally from https://gist.github.com/akesling/5358964, but works to build\n",
    "    a table similar to the Kaggle digit recognizer dataset: https://www.kaggle.com/c/digit-recognizer\n",
    "    \"\"\"\n",
    "\n",
    "    if dataset is \"training\":\n",
    "        fname_img = os.path.join(path, 'train-images-idx3-ubyte')\n",
    "        fname_lbl = os.path.join(path, 'train-labels-idx1-ubyte')\n",
    "    elif dataset is \"testing\":\n",
    "        fname_img = os.path.join(path, 't10k-images-idx3-ubyte')\n",
    "        fname_lbl = os.path.join(path, 't10k-labels-idx1-ubyte')\n",
    "    else:\n",
    "        raise ValueError, \"dataset must be 'testing' or 'training'\"\n",
    "    \n",
    "    # get labels\n",
    "    with open(fname_lbl, 'rb') as flbl:\n",
    "        magic, num = struct.unpack(\">II\", flbl.read(8))\n",
    "        lbl = np.fromfile(flbl, dtype=np.uint8)\n",
    "\n",
    "    # get pixel values\n",
    "    with open(fname_img, 'rb') as fimg:\n",
    "        magic, num, rows, cols = struct.unpack(\">IIII\", fimg.read(16))\n",
    "        img = np.fromfile(fimg, dtype=np.uint8).reshape(len(lbl), 1, 784)\n",
    "        img = img.tolist()\n",
    "        img = list(itertools.chain(*img))\n",
    "    \n",
    "    data = [] #initialize list\n",
    "    \n",
    "    # get row for DF\n",
    "    def get_img(idx): \n",
    "        row = img[idx]\n",
    "        row.insert(0, lbl[idx])\n",
    "        return row\n",
    "\n",
    "    # populate list with rows for each image\n",
    "    for i in xrange(len(lbl)):\n",
    "        data.append(get_img(i))\n",
    "    \n",
    "    # convert to df\n",
    "    df = pd.DataFrame(data)\n",
    "    df.rename(columns={0:'label'}, inplace=True)\n",
    "    return df"
   ]
  },
  {
   "cell_type": "markdown",
   "metadata": {},
   "source": [
    "### Import Train and Testing Data"
   ]
  },
  {
   "cell_type": "code",
   "execution_count": 3,
   "metadata": {},
   "outputs": [
    {
     "name": "stdout",
     "output_type": "stream",
     "text": [
      "Training Data:  (60000, 785)\n",
      "Testing Data:  (10000, 785)\n"
     ]
    },
    {
     "data": {
      "text/html": [
       "<div>\n",
       "<table border=\"1\" class=\"dataframe\">\n",
       "  <thead>\n",
       "    <tr style=\"text-align: right;\">\n",
       "      <th></th>\n",
       "      <th>label</th>\n",
       "      <th>1</th>\n",
       "      <th>2</th>\n",
       "      <th>3</th>\n",
       "      <th>4</th>\n",
       "      <th>5</th>\n",
       "      <th>6</th>\n",
       "      <th>7</th>\n",
       "      <th>8</th>\n",
       "      <th>9</th>\n",
       "      <th>...</th>\n",
       "      <th>775</th>\n",
       "      <th>776</th>\n",
       "      <th>777</th>\n",
       "      <th>778</th>\n",
       "      <th>779</th>\n",
       "      <th>780</th>\n",
       "      <th>781</th>\n",
       "      <th>782</th>\n",
       "      <th>783</th>\n",
       "      <th>784</th>\n",
       "    </tr>\n",
       "  </thead>\n",
       "  <tbody>\n",
       "    <tr>\n",
       "      <th>0</th>\n",
       "      <td>5</td>\n",
       "      <td>0</td>\n",
       "      <td>0</td>\n",
       "      <td>0</td>\n",
       "      <td>0</td>\n",
       "      <td>0</td>\n",
       "      <td>0</td>\n",
       "      <td>0</td>\n",
       "      <td>0</td>\n",
       "      <td>0</td>\n",
       "      <td>...</td>\n",
       "      <td>0</td>\n",
       "      <td>0</td>\n",
       "      <td>0</td>\n",
       "      <td>0</td>\n",
       "      <td>0</td>\n",
       "      <td>0</td>\n",
       "      <td>0</td>\n",
       "      <td>0</td>\n",
       "      <td>0</td>\n",
       "      <td>0</td>\n",
       "    </tr>\n",
       "    <tr>\n",
       "      <th>1</th>\n",
       "      <td>0</td>\n",
       "      <td>0</td>\n",
       "      <td>0</td>\n",
       "      <td>0</td>\n",
       "      <td>0</td>\n",
       "      <td>0</td>\n",
       "      <td>0</td>\n",
       "      <td>0</td>\n",
       "      <td>0</td>\n",
       "      <td>0</td>\n",
       "      <td>...</td>\n",
       "      <td>0</td>\n",
       "      <td>0</td>\n",
       "      <td>0</td>\n",
       "      <td>0</td>\n",
       "      <td>0</td>\n",
       "      <td>0</td>\n",
       "      <td>0</td>\n",
       "      <td>0</td>\n",
       "      <td>0</td>\n",
       "      <td>0</td>\n",
       "    </tr>\n",
       "    <tr>\n",
       "      <th>2</th>\n",
       "      <td>4</td>\n",
       "      <td>0</td>\n",
       "      <td>0</td>\n",
       "      <td>0</td>\n",
       "      <td>0</td>\n",
       "      <td>0</td>\n",
       "      <td>0</td>\n",
       "      <td>0</td>\n",
       "      <td>0</td>\n",
       "      <td>0</td>\n",
       "      <td>...</td>\n",
       "      <td>0</td>\n",
       "      <td>0</td>\n",
       "      <td>0</td>\n",
       "      <td>0</td>\n",
       "      <td>0</td>\n",
       "      <td>0</td>\n",
       "      <td>0</td>\n",
       "      <td>0</td>\n",
       "      <td>0</td>\n",
       "      <td>0</td>\n",
       "    </tr>\n",
       "    <tr>\n",
       "      <th>3</th>\n",
       "      <td>1</td>\n",
       "      <td>0</td>\n",
       "      <td>0</td>\n",
       "      <td>0</td>\n",
       "      <td>0</td>\n",
       "      <td>0</td>\n",
       "      <td>0</td>\n",
       "      <td>0</td>\n",
       "      <td>0</td>\n",
       "      <td>0</td>\n",
       "      <td>...</td>\n",
       "      <td>0</td>\n",
       "      <td>0</td>\n",
       "      <td>0</td>\n",
       "      <td>0</td>\n",
       "      <td>0</td>\n",
       "      <td>0</td>\n",
       "      <td>0</td>\n",
       "      <td>0</td>\n",
       "      <td>0</td>\n",
       "      <td>0</td>\n",
       "    </tr>\n",
       "    <tr>\n",
       "      <th>4</th>\n",
       "      <td>9</td>\n",
       "      <td>0</td>\n",
       "      <td>0</td>\n",
       "      <td>0</td>\n",
       "      <td>0</td>\n",
       "      <td>0</td>\n",
       "      <td>0</td>\n",
       "      <td>0</td>\n",
       "      <td>0</td>\n",
       "      <td>0</td>\n",
       "      <td>...</td>\n",
       "      <td>0</td>\n",
       "      <td>0</td>\n",
       "      <td>0</td>\n",
       "      <td>0</td>\n",
       "      <td>0</td>\n",
       "      <td>0</td>\n",
       "      <td>0</td>\n",
       "      <td>0</td>\n",
       "      <td>0</td>\n",
       "      <td>0</td>\n",
       "    </tr>\n",
       "  </tbody>\n",
       "</table>\n",
       "<p>5 rows × 785 columns</p>\n",
       "</div>"
      ],
      "text/plain": [
       "   label  1  2  3  4  5  6  7  8  9 ...   775  776  777  778  779  780  781  \\\n",
       "0      5  0  0  0  0  0  0  0  0  0 ...     0    0    0    0    0    0    0   \n",
       "1      0  0  0  0  0  0  0  0  0  0 ...     0    0    0    0    0    0    0   \n",
       "2      4  0  0  0  0  0  0  0  0  0 ...     0    0    0    0    0    0    0   \n",
       "3      1  0  0  0  0  0  0  0  0  0 ...     0    0    0    0    0    0    0   \n",
       "4      9  0  0  0  0  0  0  0  0  0 ...     0    0    0    0    0    0    0   \n",
       "\n",
       "   782  783  784  \n",
       "0    0    0    0  \n",
       "1    0    0    0  \n",
       "2    0    0    0  \n",
       "3    0    0    0  \n",
       "4    0    0    0  \n",
       "\n",
       "[5 rows x 785 columns]"
      ]
     },
     "execution_count": 3,
     "metadata": {},
     "output_type": "execute_result"
    }
   ],
   "source": [
    "mtrain = read(\"training\")\n",
    "mtest = read(\"testing\")\n",
    "print \"Training Data: \", mtrain.shape\n",
    "print \"Testing Data: \", mtest.shape\n",
    "mtrain.head(5)"
   ]
  },
  {
   "cell_type": "markdown",
   "metadata": {},
   "source": [
    "### Review Training and Test Label Distributions"
   ]
  },
  {
   "cell_type": "code",
   "execution_count": 4,
   "metadata": {},
   "outputs": [
    {
     "data": {
      "image/png": "[encoded data removed]",
      "text/plain": [
       "<matplotlib.figure.Figure at 0x7f3e616744d0>"
      ]
     },
     "metadata": {},
     "output_type": "display_data"
    }
   ],
   "source": [
    "f, (ax1, ax2) = plt.subplots(ncols=2, sharey=True)\n",
    "plt.suptitle('MNIST Image Distribution', fontweight='bold')\n",
    "sns.distplot(mtrain.label, kde=False, ax=ax1).set_title('Training Label');\n",
    "sns.distplot(mtest.label, kde=False, ax=ax2).set_title('Testing Label');\n",
    "plt.subplots_adjust(top=.85, bottom=0.1, left=0.05, right=0.95, hspace=0.8,\n",
    "                    wspace=0.35)"
   ]
  },
  {
   "cell_type": "markdown",
   "metadata": {},
   "source": [
    "## Image Visualization"
   ]
  },
  {
   "cell_type": "code",
   "execution_count": 5,
   "metadata": {},
   "outputs": [],
   "source": [
    "def rowconverter(df, idx):\n",
    "    \"\"\"\n",
    "    given a df and a index, get a label for the image, and convert \n",
    "    back to a 28^2 np.array\n",
    "    \"\"\"\n",
    "    row = df.loc[[idx]]\n",
    "    label = row.iloc[0]['label']\n",
    "    row.pop('label')\n",
    "    image = row.as_matrix().reshape(28,28)\n",
    "    return label, image\n",
    "\n",
    "# Both of the visualization tools below contain code taken liberally from\n",
    "# https://gist.github.com/akesling/5358964\n",
    "\n",
    "def ascii_show(image):\n",
    "    \"\"\"\n",
    "    Show pixel values in formation\n",
    "    \"\"\"\n",
    "    for y in image[1]:\n",
    "         row = \"\"\n",
    "         for x in y:\n",
    "             row += '{0: <4}'.format(x)\n",
    "         print row\n",
    "        \n",
    "def show(image):\n",
    "    \"\"\"\n",
    "    Render a given numpy.uint8 2D array of pixel data.\n",
    "    \"\"\"\n",
    "    title = \"Image Label : \" + str(image[0])\n",
    "    fig = plt.figure()\n",
    "    plt.title(title)\n",
    "    imgplot1 = plt.imshow(image[1], cmap=mpl.cm.Greys)\n",
    "    imgplot1.set_interpolation('nearest')\n",
    "    plt.show()"
   ]
  },
  {
   "cell_type": "markdown",
   "metadata": {},
   "source": [
    "### Visualize Random Example in Training Data"
   ]
  },
  {
   "cell_type": "code",
   "execution_count": 6,
   "metadata": {},
   "outputs": [
    {
     "data": {
      "image/png": "[encoded data removed]",
      "text/plain": [
       "<matplotlib.figure.Figure at 0x7f3e617c8d90>"
      ]
     },
     "metadata": {},
     "output_type": "display_data"
    },
    {
     "name": "stdout",
     "output_type": "stream",
     "text": [
      "0   0   0   0   0   0   0   0   0   0   0   0   0   0   0   0   0   0   0   0   0   0   0   0   0   0   0   0   \n",
      "0   0   0   0   0   0   0   0   0   0   0   0   0   0   0   0   0   0   0   0   0   0   0   0   0   0   0   0   \n",
      "0   0   0   0   0   0   0   0   0   0   0   0   0   0   0   0   0   0   0   0   0   0   0   0   0   0   0   0   \n",
      "0   0   0   0   0   0   0   0   0   0   0   0   0   0   0   0   0   0   0   0   0   0   0   0   0   0   0   0   \n",
      "0   0   0   0   0   0   0   0   0   0   0   0   0   0   0   0   0   0   0   0   0   0   0   0   0   0   0   0   \n",
      "0   0   0   0   0   0   0   0   0   0   10  13  65  132 133 144 178 132 105 9   0   0   0   0   0   0   0   0   \n",
      "0   0   0   0   0   0   4   106 145 145 232 252 252 252 253 252 252 252 252 221 47  4   0   0   0   0   0   0   \n",
      "0   0   0   0   0   4   126 252 252 242 216 216 216 233 171 96  96  96  190 252 252 111 0   0   0   0   0   0   \n",
      "0   0   0   0   0   25  252 252 212 60  0   0   0   40  98  0   0   0   20  212 252 155 0   0   0   0   0   0   \n",
      "0   0   0   0   0   25  252 252 192 0   0   0   0   0   0   0   0   0   44  235 252 127 0   0   0   0   0   0   \n",
      "0   0   0   0   0   25  252 252 192 0   0   0   0   0   0   0   0   0   96  252 187 9   0   0   0   0   0   0   \n",
      "0   0   0   0   0   5   174 252 241 170 16  0   0   0   0   0   0   80  239 252 70  0   0   0   0   0   0   0   \n",
      "0   0   0   0   0   0   40  220 252 252 224 77  0   0   0   0   78  241 252 143 7   0   0   0   0   0   0   0   \n",
      "0   0   0   0   0   0   0   39  169 252 252 243 177 5   0   75  243 252 145 6   0   0   0   0   0   0   0   0   \n",
      "0   0   0   0   0   0   0   0   3   104 230 252 252 242 185 247 252 148 4   0   0   0   0   0   0   0   0   0   \n",
      "0   0   0   0   0   0   0   0   0   0   41  167 252 253 255 253 236 50  0   0   0   0   0   0   0   0   0   0   \n",
      "0   0   0   0   0   0   0   0   0   0   0   10  231 252 253 252 252 231 117 6   0   0   0   0   0   0   0   0   \n",
      "0   0   0   0   0   0   0   0   0   0   0   115 252 252 159 219 252 252 252 179 30  0   0   0   0   0   0   0   \n",
      "0   0   0   0   0   0   0   0   0   0   80  241 252 148 0   8   84  173 252 252 144 7   0   0   0   0   0   0   \n",
      "0   0   0   0   0   0   0   0   0   18  216 252 174 4   0   0   0   14  172 252 252 122 0   0   0   0   0   0   \n",
      "0   0   0   0   0   0   0   0   0   73  252 252 86  0   0   0   0   0   96  252 252 122 0   0   0   0   0   0   \n",
      "0   0   0   0   0   0   0   0   0   73  252 252 180 4   0   0   13  108 239 252 252 36  0   0   0   0   0   0   \n",
      "0   0   0   0   0   0   0   0   0   11  211 252 252 219 218 217 222 252 252 252 133 5   0   0   0   0   0   0   \n",
      "0   0   0   0   0   0   0   0   0   0   60  185 252 252 253 252 252 252 252 134 5   0   0   0   0   0   0   0   \n",
      "0   0   0   0   0   0   0   0   0   0   0   5   63  189 132 201 177 131 45  3   0   0   0   0   0   0   0   0   \n",
      "0   0   0   0   0   0   0   0   0   0   0   0   0   0   0   0   0   0   0   0   0   0   0   0   0   0   0   0   \n",
      "0   0   0   0   0   0   0   0   0   0   0   0   0   0   0   0   0   0   0   0   0   0   0   0   0   0   0   0   \n",
      "0   0   0   0   0   0   0   0   0   0   0   0   0   0   0   0   0   0   0   0   0   0   0   0   0   0   0   0   \n"
     ]
    }
   ],
   "source": [
    "img = rowconverter(mtrain, randint(0,len(mtrain)))\n",
    "\n",
    "show(img)\n",
    "ascii_show(img)"
   ]
  },
  {
   "cell_type": "markdown",
   "metadata": {},
   "source": [
    "## Training Classifiers"
   ]
  },
  {
   "cell_type": "markdown",
   "metadata": {},
   "source": [
    "## References"
   ]
  },
  {
   "cell_type": "markdown",
   "metadata": {},
   "source": [
    "* https://www.kaggle.com/archaeocharlie/digit-recognizer/a-beginner-s-approach-to-classification\n",
    "* https://martin-thoma.com/classify-mnist-with-pybrain/\n",
    "* https://gist.github.com/akesling/5358964\n",
    "* When Life is Linear, Tim Chartier\n",
    "* http://colah.github.io/posts/2014-10-Visualizing-MNIST/\n",
    "* https://www.tensorflow.org/get_started/mnist/beginners"
   ]
  },
  {
   "cell_type": "code",
   "execution_count": null,
   "metadata": {
    "collapsed": true
   },
   "outputs": [],
   "source": []
  }
 ],
 "metadata": {
  "kernelspec": {
   "display_name": "Python 2",
   "language": "python",
   "name": "python2"
  },
  "language_info": {
   "codemirror_mode": {
    "name": "ipython",
    "version": 2
   },
   "file_extension": ".py",
   "mimetype": "text/x-python",
   "name": "python",
   "nbconvert_exporter": "python",
   "pygments_lexer": "ipython2",
   "version": "2.7.13"
  }
 },
 "nbformat": 4,
 "nbformat_minor": 2
}
