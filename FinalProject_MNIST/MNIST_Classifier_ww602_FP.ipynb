{
 "cells": [
  {
   "cell_type": "markdown",
   "metadata": {},
   "source": [
    "# Final Project:   MNIST Classifiers\n",
    "\n",
    "CUNY MSDA - DATA 602: Advanced Programming Techniques<br>\n",
    "_Author - Walt Wells_\n",
    "\n",
    "## Resources\n",
    "\n",
    "Some words about the OSDC...\n",
    "\n",
    "## Environment Prep"
   ]
  },
  {
   "cell_type": "code",
   "execution_count": 1,
   "metadata": {
    "collapsed": true
   },
   "outputs": [],
   "source": [
    "import os\n",
    "import struct\n",
    "import pandas as pd\n",
    "import numpy as np\n",
    "import itertools\n",
    "import seaborn as sns\n",
    "import matplotlib as mpl\n",
    "import matplotlib.pyplot as plt\n",
    "from random import randint\n",
    "%matplotlib inline"
   ]
  },
  {
   "cell_type": "markdown",
   "metadata": {},
   "source": [
    "## Data Import and Preparation"
   ]
  },
  {
   "cell_type": "code",
   "execution_count": 2,
   "metadata": {
    "collapsed": true
   },
   "outputs": [],
   "source": [
    "def read(dataset = \"training\", path = \".\"):\n",
    "    \"\"\"\n",
    "    Python function for importing the MNIST data set as a pandas data frame. \n",
    "    The first column is the label/class, the other 784 columns are the pixel values.  \n",
    "    Uses code liberally from https://gist.github.com/akesling/5358964, but works to build\n",
    "    a table similar to the Kaggle digit recognizer dataset: https://www.kaggle.com/c/digit-recognizer\n",
    "    \"\"\"\n",
    "\n",
    "    if dataset is \"training\":\n",
    "        fname_img = os.path.join(path, 'train-images-idx3-ubyte')\n",
    "        fname_lbl = os.path.join(path, 'train-labels-idx1-ubyte')\n",
    "    elif dataset is \"testing\":\n",
    "        fname_img = os.path.join(path, 't10k-images-idx3-ubyte')\n",
    "        fname_lbl = os.path.join(path, 't10k-labels-idx1-ubyte')\n",
    "    else:\n",
    "        raise ValueError, \"dataset must be 'testing' or 'training'\"\n",
    "    \n",
    "    # get labels\n",
    "    with open(fname_lbl, 'rb') as flbl:\n",
    "        magic, num = struct.unpack(\">II\", flbl.read(8))\n",
    "        lbl = np.fromfile(flbl, dtype=np.uint8)\n",
    "\n",
    "    # get pixel values\n",
    "    with open(fname_img, 'rb') as fimg:\n",
    "        magic, num, rows, cols = struct.unpack(\">IIII\", fimg.read(16))\n",
    "        img = np.fromfile(fimg, dtype=np.uint8).reshape(len(lbl), 1, 784)\n",
    "        img = img.tolist()\n",
    "        img = list(itertools.chain(*img))\n",
    "    \n",
    "    data = [] #initialize list\n",
    "    \n",
    "    # get row for DF\n",
    "    def get_img(idx): \n",
    "        row = img[idx]\n",
    "        row.insert(0, lbl[idx])\n",
    "        return row\n",
    "\n",
    "    # populate list with rows for each image\n",
    "    for i in xrange(len(lbl)):\n",
    "        data.append(get_img(i))\n",
    "    \n",
    "    # convert to df\n",
    "    df = pd.DataFrame(data)\n",
    "    df.rename(columns={0:'label'}, inplace=True)\n",
    "    return df"
   ]
  },
  {
   "cell_type": "markdown",
   "metadata": {},
   "source": [
    "### Import Train and Testing Data"
   ]
  },
  {
   "cell_type": "code",
   "execution_count": 3,
   "metadata": {},
   "outputs": [
    {
     "name": "stdout",
     "output_type": "stream",
     "text": [
      "Training Data:  (60000, 785)\n",
      "Testing Data:  (10000, 785)\n"
     ]
    }
   ],
   "source": [
    "mtrain = read(\"training\")\n",
    "mtest = read(\"testing\")\n",
    "print \"Training Data: \", mtrain.shape\n",
    "print \"Testing Data: \", mtest.shape\n",
    "#mtrain.head(5)"
   ]
  },
  {
   "cell_type": "markdown",
   "metadata": {},
   "source": [
    "### Review Training and Test Label Distributions"
   ]
  },
  {
   "cell_type": "code",
   "execution_count": 4,
   "metadata": {},
   "outputs": [
    {
     "data": {
      "image/png": "[encoded data removed]",
      "text/plain": [
       "<matplotlib.figure.Figure at 0x7f66c68827d0>"
      ]
     },
     "metadata": {},
     "output_type": "display_data"
    }
   ],
   "source": [
    "f, (ax1, ax2) = plt.subplots(ncols=2, sharey=True)\n",
    "plt.suptitle('MNIST Image Distribution', fontweight='bold')\n",
    "sns.distplot(mtrain.label, kde=False, ax=ax1).set_title('Training Label');\n",
    "sns.distplot(mtest.label, kde=False, ax=ax2).set_title('Testing Label');\n",
    "plt.subplots_adjust(top=.85, bottom=0.1, left=0.05, right=0.95, hspace=0.8,\n",
    "                    wspace=0.35)"
   ]
  },
  {
   "cell_type": "markdown",
   "metadata": {},
   "source": [
    "## Image Visualization"
   ]
  },
  {
   "cell_type": "code",
   "execution_count": 5,
   "metadata": {
    "collapsed": true
   },
   "outputs": [],
   "source": [
    "def rowconverter(df, idx):\n",
    "    \"\"\"\n",
    "    given a df and a index, get a label for the image, and convert \n",
    "    back to a 28^2 np.array\n",
    "    \"\"\"\n",
    "    row = df.loc[[idx]]\n",
    "    label = row.iloc[0]['label']\n",
    "    row.pop('label')\n",
    "    image = row.as_matrix().reshape(28,28)\n",
    "    return label, image\n",
    "\n",
    "# Both of the visualization tools below contain code taken liberally from\n",
    "# https://gist.github.com/akesling/5358964\n",
    "\n",
    "def ascii_show(image):\n",
    "    \"\"\"\n",
    "    Show pixel values in formation\n",
    "    \"\"\"\n",
    "    for y in image[1]:\n",
    "         row = \"\"\n",
    "         for x in y:\n",
    "             row += '{0: <4}'.format(x)\n",
    "         print row\n",
    "        \n",
    "def show(image):\n",
    "    \"\"\"\n",
    "    Render a given numpy.uint8 2D array of pixel data.\n",
    "    \"\"\"\n",
    "    title = \"Image Label : \" + str(image[0])\n",
    "    fig = plt.figure()\n",
    "    plt.title(title)\n",
    "    imgplot1 = plt.imshow(image[1], cmap=mpl.cm.Greys)\n",
    "    imgplot1.set_interpolation('nearest')\n",
    "    plt.show()"
   ]
  },
  {
   "cell_type": "markdown",
   "metadata": {},
   "source": [
    "### Visualize Random Example in Training Data"
   ]
  },
  {
   "cell_type": "code",
   "execution_count": 6,
   "metadata": {},
   "outputs": [
    {
     "data": {
      "image/png": "[encoded data removed]",
      "text/plain": [
       "<matplotlib.figure.Figure at 0x7f66c3aafe90>"
      ]
     },
     "metadata": {},
     "output_type": "display_data"
    },
    {
     "name": "stdout",
     "output_type": "stream",
     "text": [
      "0   0   0   0   0   0   0   0   0   0   0   0   0   0   0   0   0   0   0   0   0   0   0   0   0   0   0   0   \n",
      "0   0   0   0   0   0   0   0   0   0   0   0   0   0   0   0   0   0   0   0   0   0   0   0   0   0   0   0   \n",
      "0   0   0   0   0   0   0   0   0   0   0   0   0   0   0   0   0   0   0   0   0   0   0   0   0   0   0   0   \n",
      "0   0   0   0   0   0   0   0   0   0   0   0   0   0   0   0   0   0   0   0   0   0   0   0   0   0   0   0   \n",
      "0   0   0   0   0   0   0   0   0   0   0   0   0   0   0   0   19  209 229 35  0   0   0   0   0   0   0   0   \n",
      "0   0   0   0   0   0   0   0   0   0   0   0   0   0   0   0   145 250 128 0   0   0   0   0   0   0   0   0   \n",
      "0   0   0   0   0   0   0   0   0   0   0   0   0   0   0   2   161 217 0   0   0   0   0   0   0   0   0   0   \n",
      "0   0   0   0   0   0   0   0   0   0   0   0   0   0   0   36  253 217 0   0   0   0   0   0   0   0   0   0   \n",
      "0   0   0   0   0   0   0   0   0   0   0   0   0   0   0   162 253 188 0   0   0   0   0   0   0   0   0   0   \n",
      "0   0   0   0   0   0   0   0   0   0   0   0   0   0   0   254 246 69  0   0   0   0   0   0   0   0   0   0   \n",
      "0   0   0   0   0   0   0   0   0   0   0   0   0   0   99  254 229 0   0   0   0   0   0   0   0   0   0   0   \n",
      "0   0   0   0   0   0   0   0   0   0   0   0   0   0   167 255 125 0   0   0   0   0   0   0   0   0   0   0   \n",
      "0   0   0   0   0   0   0   0   0   0   0   0   0   0   242 255 109 0   0   0   0   0   0   0   0   0   0   0   \n",
      "0   0   0   0   0   0   0   0   0   0   0   0   0   105 253 243 5   0   0   0   0   0   0   0   0   0   0   0   \n",
      "0   0   0   0   0   0   0   0   0   0   0   0   0   110 255 238 0   0   0   0   0   0   0   0   0   0   0   0   \n",
      "0   0   0   0   0   0   0   0   0   0   0   0   0   179 253 122 0   0   0   0   0   0   0   0   0   0   0   0   \n",
      "0   0   0   0   0   0   0   0   0   0   0   0   78  245 253 46  0   0   0   0   0   0   0   0   0   0   0   0   \n",
      "0   0   0   0   0   0   0   0   0   0   0   0   218 253 230 0   0   0   0   0   0   0   0   0   0   0   0   0   \n",
      "0   0   0   0   0   0   0   0   0   0   0   21  226 253 104 0   0   0   0   0   0   0   0   0   0   0   0   0   \n",
      "0   0   0   0   0   0   0   0   0   0   0   85  253 170 3   0   0   0   0   0   0   0   0   0   0   0   0   0   \n",
      "0   0   0   0   0   0   0   0   0   0   25  199 253 144 0   0   0   0   0   0   0   0   0   0   0   0   0   0   \n",
      "0   0   0   0   0   0   0   0   0   0   73  253 253 40  0   0   0   0   0   0   0   0   0   0   0   0   0   0   \n",
      "0   0   0   0   0   0   0   0   0   0   126 253 253 24  0   0   0   0   0   0   0   0   0   0   0   0   0   0   \n",
      "0   0   0   0   0   0   0   0   0   0   79  253 103 1   0   0   0   0   0   0   0   0   0   0   0   0   0   0   \n",
      "0   0   0   0   0   0   0   0   0   0   0   0   0   0   0   0   0   0   0   0   0   0   0   0   0   0   0   0   \n",
      "0   0   0   0   0   0   0   0   0   0   0   0   0   0   0   0   0   0   0   0   0   0   0   0   0   0   0   0   \n",
      "0   0   0   0   0   0   0   0   0   0   0   0   0   0   0   0   0   0   0   0   0   0   0   0   0   0   0   0   \n",
      "0   0   0   0   0   0   0   0   0   0   0   0   0   0   0   0   0   0   0   0   0   0   0   0   0   0   0   0   \n"
     ]
    }
   ],
   "source": [
    "img = rowconverter(mtrain, randint(0,len(mtrain)))\n",
    "\n",
    "show(img)\n",
    "ascii_show(img)"
   ]
  },
  {
   "cell_type": "markdown",
   "metadata": {},
   "source": [
    "## Simple Classifier\n",
    "\n",
    "### Mean Pixel Location"
   ]
  },
  {
   "cell_type": "code",
   "execution_count": 7,
   "metadata": {
    "collapsed": true
   },
   "outputs": [],
   "source": [
    "meanClass = mtrain.groupby(['label']).mean()\n",
    "meanClass.reset_index(level=0, inplace=True)"
   ]
  },
  {
   "cell_type": "markdown",
   "metadata": {},
   "source": [
    "### Visualize Mean Results"
   ]
  },
  {
   "cell_type": "code",
   "execution_count": 8,
   "metadata": {},
   "outputs": [
    {
     "data": {
      "image/png": "[encoded data removed]",
      "text/plain": [
       "<matplotlib.figure.Figure at 0x7f66c3b216d0>"
      ]
     },
     "metadata": {},
     "output_type": "display_data"
    }
   ],
   "source": [
    "fig, axarr = plt.subplots(2,5, figsize=(15,8))\n",
    "fig.subplots_adjust(hspace = .05, wspace=.1)\n",
    "axs = axarr.ravel()\n",
    "\n",
    "for i in range(len(meanClass)):\n",
    "    img = rowconverter(meanClass, i)\n",
    "    title = \"Image Label : \" + str(img[0])\n",
    "    axs[i].set_title(title)\n",
    "    imgplot = axs[i].imshow(img[1])\n",
    "    imgplot.set_interpolation('nearest')"
   ]
  },
  {
   "cell_type": "markdown",
   "metadata": {},
   "source": [
    "### Get Distances\n",
    "\n",
    "#### Euclidean Norm\n",
    "* $m$ = our meanClass dataset\n",
    "* $t$ = a single vector representing an image\n",
    "\n",
    "$||m - t||_2$\n",
    "\n",
    "Here we want the _lowest_ distance to determine the correct prediction. "
   ]
  },
  {
   "cell_type": "code",
   "execution_count": 11,
   "metadata": {
    "collapsed": true
   },
   "outputs": [],
   "source": [
    "def eucDist(single):\n",
    "    \"\"\"\n",
    "    given an image, calculate the Euclidean distance to the values\n",
    "    in our meanClass dataset, and return a prediction and value\n",
    "    \"\"\"\n",
    "    label = np.asscalar(single['label'])\n",
    "\n",
    "    result = pd.DataFrame(meanClass.values - single.values, columns=meanClass.columns)\n",
    "    result.drop(result.columns[[0]], axis=1, inplace=True)\n",
    "\n",
    "    result = np.square(result)\n",
    "    eucdist = np.sqrt(result.sum(axis=1))\n",
    "    eucdist\n",
    "\n",
    "    predict, dist = eucdist.idxmin(), eucdist.min()\n",
    "    #print type(label)\n",
    "    #print type(predict)\n",
    "    \n",
    "    return [label, predict, dist]"
   ]
  },
  {
   "cell_type": "markdown",
   "metadata": {},
   "source": [
    "#### Cosine Distance\n",
    "$\\frac{m \\times t}{||m||_2 \\times ||t||_2}$\n",
    "\n",
    "Here we want the _greatest_ distance value (closest to 1) to determine the correct prediction. "
   ]
  },
  {
   "cell_type": "code",
   "execution_count": 102,
   "metadata": {
    "collapsed": true
   },
   "outputs": [],
   "source": [
    "def cosDist(single):\n",
    "    \"\"\"\n",
    "    given an image, calculate the Cosine distance to the values\n",
    "    in our meanClass dataset, and return a prediction and value\n",
    "    \"\"\"\n",
    "    m = meanClass.copy()  ## should be a cleaner way to do this?\n",
    "    m.drop(m.columns[[0]], axis=1, inplace=True)\n",
    "\n",
    "    label = np.asscalar(single['label'])\n",
    "\n",
    "    t = pd.DataFrame(single)\n",
    "\n",
    "    t.drop(['label'], inplace=True)\n",
    "    tran_t = t.transpose()\n",
    "\n",
    "    numerator = np.dot(m, t).T\n",
    "\n",
    "    m_2 = np.sqrt(np.square(m).sum(axis=1))\n",
    "    t_2 = np.sqrt(np.square(tran_t).sum(axis=1))\n",
    "    \n",
    "    denominator = m_2.values * t_2.values\n",
    "\n",
    "    cosdist = np.divide(numerator, denominator)\n",
    "    predict, dist = np.argmax(cosdist), cosdist.max()\n",
    "    \n",
    "    return [label, predict, dist]"
   ]
  },
  {
   "cell_type": "markdown",
   "metadata": {},
   "source": [
    "### Predict a single image"
   ]
  },
  {
   "cell_type": "code",
   "execution_count": 108,
   "metadata": {},
   "outputs": [
    {
     "name": "stdout",
     "output_type": "stream",
     "text": [
      " Test Class:  7\n",
      "---------------------------------------\n",
      "Euclidean Distance\n",
      "Predicted Class:  7  |  Distance of:  1221.30925287\n",
      "Is this prediction correct:  True\n",
      "---------------------------------------\n",
      "Cosine Distance\n",
      "Predicted Class:  7  |  Distance of:  0.783245174237\n",
      "Is this prediction correct:  True\n"
     ]
    }
   ],
   "source": [
    "img = mtest[0:1]\n",
    "euc_img = img.apply(eucDist, axis=1)\n",
    "cos_img = img.apply(cosDist, axis=1)\n",
    "\n",
    "print \"Test Class: \", euc_img[0][0]\n",
    "print \"---------------------------------------\"\n",
    "print \"Euclidean Distance\"\n",
    "print \"Predicted Class: \", euc_img[0][1], \" |  Distance of: \", euc_img[0][2]\n",
    "print \"Is this prediction correct: \", euc_img[0][1] == euc_img[0][1]\n",
    "print \"---------------------------------------\"\n",
    "print \"Cosine Distance\"\n",
    "print \"Predicted Class: \", cos_img[0][1], \" |  Distance of: \", cos_img[0][2]\n",
    "print \"Is this prediction correct: \", cos_img[0][0] == cos_img[0][1]"
   ]
  },
  {
   "cell_type": "markdown",
   "metadata": {},
   "source": [
    "### Predict all test data"
   ]
  },
  {
   "cell_type": "code",
   "execution_count": 110,
   "metadata": {},
   "outputs": [],
   "source": [
    "euc_results = mtest.apply(eucDist, axis=1)\n",
    "cos_results = mtest.apply(cosDist, axis=1)\n",
    "#sub = mtest[1:5]\n",
    "#test_results = sub.apply(cosDist, axis=1)\n",
    "#test_results"
   ]
  },
  {
   "cell_type": "code",
   "execution_count": 112,
   "metadata": {},
   "outputs": [
    {
     "name": "stdout",
     "output_type": "stream",
     "text": [
      "0    [7, 7, 1221.30925287]\n",
      "1    [2, 2, 2048.53150525]\n",
      "2    [1, 1, 897.925426003]\n",
      "3    [0, 0, 1568.43174815]\n",
      "4    [4, 4, 1533.68057641]\n",
      "dtype: object\n",
      "0    [7, 7, 0.783245174237]\n",
      "1    [2, 2, 0.592661631042]\n",
      "2    [1, 1, 0.792132823803]\n",
      "3    [0, 0, 0.850992881213]\n",
      "4    [4, 4, 0.657408501547]\n",
      "dtype: object\n"
     ]
    }
   ],
   "source": [
    "print euc_results.head(5)\n",
    "print cos_results.head(5)"
   ]
  },
  {
   "cell_type": "markdown",
   "metadata": {},
   "source": [
    "## Describe Results"
   ]
  },
  {
   "cell_type": "markdown",
   "metadata": {},
   "source": [
    "## Expand/Improve above Model?   Use existing libraries to model other classifer algorithms?"
   ]
  },
  {
   "cell_type": "markdown",
   "metadata": {},
   "source": [
    "## References"
   ]
  },
  {
   "cell_type": "markdown",
   "metadata": {},
   "source": [
    "* When Life is Linear, Tim Chartier\n",
    "* https://www.kaggle.com/archaeocharlie/digit-recognizer/a-beginner-s-approach-to-classification\n",
    "* https://martin-thoma.com/classify-mnist-with-pybrain/\n",
    "* https://gist.github.com/akesling/5358964\n",
    "* http://colah.github.io/posts/2014-10-Visualizing-MNIST/\n",
    "* http://stackoverflow.com/questions/17210646/python-subplot-within-a-loop-first-panel-appears-in-wrong-position\n",
    "* https://www.tensorflow.org/get_started/mnist/beginners\n",
    "* https://en.wikipedia.org/wiki/Cosine_similarity\n",
    "* https://en.wikipedia.org/wiki/Euclidean_distance"
   ]
  },
  {
   "cell_type": "code",
   "execution_count": null,
   "metadata": {
    "collapsed": true
   },
   "outputs": [],
   "source": []
  }
 ],
 "metadata": {
  "kernelspec": {
   "display_name": "Python 2",
   "language": "python",
   "name": "python2"
  },
  "language_info": {
   "codemirror_mode": {
    "name": "ipython",
    "version": 2
   },
   "file_extension": ".py",
   "mimetype": "text/x-python",
   "name": "python",
   "nbconvert_exporter": "python",
   "pygments_lexer": "ipython2",
   "version": "2.7.13"
  }
 },
 "nbformat": 4,
 "nbformat_minor": 2
}
