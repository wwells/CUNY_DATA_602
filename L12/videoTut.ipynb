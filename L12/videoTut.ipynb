{
 "cells": [
  {
   "cell_type": "code",
   "execution_count": 7,
   "metadata": {
    "collapsed": true
   },
   "outputs": [],
   "source": [
    "import ipyparallel as ipp\n",
    "import os"
   ]
  },
  {
   "cell_type": "markdown",
   "metadata": {},
   "source": [
    "in terminal `ipcluster start` starts up controller and 4 engines.   if other engines desired `ipcluster start -m 4`"
   ]
  },
  {
   "cell_type": "code",
   "execution_count": 8,
   "metadata": {},
   "outputs": [],
   "source": [
    "rc = ipp.Client()\n",
    "ar = rc[:].apply_async(os.getpid)\n",
    "pid_map = ar.get_dict()"
   ]
  },
  {
   "cell_type": "code",
   "execution_count": 11,
   "metadata": {},
   "outputs": [
    {
     "name": "stdout",
     "output_type": "stream",
     "text": [
      "[0, 1, 2, 3]\n",
      "<AsyncResult: getpid:finished>\n",
      "{0: 22944, 1: 22945, 2: 22946, 3: 22947}\n"
     ]
    }
   ],
   "source": [
    "clients = ipp.Client()\n",
    "clients.block = True\n",
    "print clients.ids\n",
    "print pid_map"
   ]
  },
  {
   "cell_type": "code",
   "execution_count": 10,
   "metadata": {
    "collapsed": true
   },
   "outputs": [],
   "source": [
    "dview = clients.direct_view()\n"
   ]
  },
  {
   "cell_type": "code",
   "execution_count": 12,
   "metadata": {},
   "outputs": [
    {
     "name": "stdout",
     "output_type": "stream",
     "text": [
      "[stdout:0] [ 0.70764188  0.70668695  0.2547375 ]\n",
      "[stdout:1] [ 0.82669416  0.7683319   0.27964223]\n",
      "[stdout:2] [ 0.60362258  0.11386327  0.18533122]\n",
      "[stdout:3] [ 0.601981    0.11349018  0.9094542 ]\n"
     ]
    }
   ],
   "source": [
    "%px import numpy\n",
    "%px r = numpy.random.random(3)\n",
    "%px print r"
   ]
  },
  {
   "cell_type": "code",
   "execution_count": 13,
   "metadata": {},
   "outputs": [
    {
     "name": "stdout",
     "output_type": "stream",
     "text": [
      "[ 0.70764188  0.70668695  0.2547375   0.82669416  0.7683319   0.27964223\n",
      "  0.60362258  0.11386327  0.18533122  0.601981    0.11349018  0.9094542 ]\n"
     ]
    }
   ],
   "source": [
    "r = dview.gather('r')\n",
    "print r"
   ]
  },
  {
   "cell_type": "code",
   "execution_count": null,
   "metadata": {
    "collapsed": true
   },
   "outputs": [],
   "source": []
  }
 ],
 "metadata": {
  "kernelspec": {
   "display_name": "Python 2",
   "language": "python",
   "name": "python2"
  },
  "language_info": {
   "codemirror_mode": {
    "name": "ipython",
    "version": 2
   },
   "file_extension": ".py",
   "mimetype": "text/x-python",
   "name": "python",
   "nbconvert_exporter": "python",
   "pygments_lexer": "ipython2",
   "version": "2.7.10"
  }
 },
 "nbformat": 4,
 "nbformat_minor": 2
}
