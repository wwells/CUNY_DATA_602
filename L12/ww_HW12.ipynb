{
 "cells": [
  {
   "cell_type": "markdown",
   "metadata": {},
   "source": [
    "\n",
    "# Parallel / Monte Carlo: HW12\n",
    "\n",
    "CUNY MSDA - DATA 602: Advanced Programming Techniques<br>\n",
    "_Author - Walt Wells_"
   ]
  },
  {
   "cell_type": "code",
   "execution_count": 1,
   "metadata": {
    "collapsed": true
   },
   "outputs": [],
   "source": [
    "import pandas as pd\n",
    "import numpy as np\n",
    "import ipyparallel as ipp\n",
    "import os\n",
    "import time\n",
    "import seaborn as sns\n",
    "import matplotlib.pyplot as plt\n",
    "%matplotlib inline"
   ]
  },
  {
   "cell_type": "markdown",
   "metadata": {},
   "source": [
    "This homework will get your feet wet with some basic parallel computing approaches.  \n",
    "\n",
    "* Take your solution from Homework 11 and complete the Monte Carlo step (step 6) in parallel.  There are many ways you can go about doing this, and I'm not looking for anything too complicated.  If you can get multiple processes crunching the data together, that is great.  Using IPython’s built-in tools would be a great method. \n",
    "* Compare the timing for your solution in homework 11 and this parallel solution.  This is similar to what you did in homeworks 6 and 7.  Ideally, you'll see some speed improvement.  The amount you see will largely be based the capabilities of your hardware, and less on the software implementation.  There is additional overhead for running an operation in parallel, so speed gains will be more obvious with a larger number of calculations."
   ]
  },
  {
   "cell_type": "markdown",
   "metadata": {},
   "source": [
    "### Load and Clean Data"
   ]
  },
  {
   "cell_type": "code",
   "execution_count": 2,
   "metadata": {
    "collapsed": true
   },
   "outputs": [],
   "source": [
    "url = 'https://raw.githubusercontent.com/wwells/CUNY_DATA_602/master/L11/apple.2011.csv'\n",
    "apple = pd.read_csv(url, names = ['date', 'price', 'per_change'], skiprows=1)\n",
    "apple['date'] = pd.to_datetime(apple['date'])\n",
    "apple['per_change'] = pd.to_numeric(apple['per_change'], errors='coerce')"
   ]
  },
  {
   "cell_type": "markdown",
   "metadata": {},
   "source": [
    "### Get Values, Function to Generate Walk"
   ]
  },
  {
   "cell_type": "code",
   "execution_count": 3,
   "metadata": {
    "collapsed": true
   },
   "outputs": [],
   "source": [
    "mu = np.mean(apple['per_change'])\n",
    "sigma = np.std(apple['per_change'])\n",
    "lastprice = apple.price.iloc[-1]"
   ]
  },
  {
   "cell_type": "code",
   "execution_count": 4,
   "metadata": {
    "collapsed": true
   },
   "outputs": [],
   "source": [
    "def montecarlowalk(walklength):\n",
    "    price = lastprice\n",
    "    randlist = np.random.normal(mu, sigma, walklength)\n",
    "    for i in randlist:\n",
    "        price = price + price * i\n",
    "    return price"
   ]
  },
  {
   "cell_type": "markdown",
   "metadata": {},
   "source": [
    "## Time Local"
   ]
  },
  {
   "cell_type": "markdown",
   "metadata": {},
   "source": [
    "### Local Timer Func"
   ]
  },
  {
   "cell_type": "code",
   "execution_count": 5,
   "metadata": {
    "collapsed": true
   },
   "outputs": [],
   "source": [
    "def localtimer(n):\n",
    "    t0 = time.time()\n",
    "    monte = [montecarlowalk(20) for i in range(n)]\n",
    "    VaR99 = np.percentile(monte, 1)\n",
    "    t1 = time.time()\n",
    "    t = t1-t0\n",
    "    return t"
   ]
  },
  {
   "cell_type": "markdown",
   "metadata": {},
   "source": [
    "### Time 10K, 100K, 1Mil Loops"
   ]
  },
  {
   "cell_type": "code",
   "execution_count": 6,
   "metadata": {
    "collapsed": true
   },
   "outputs": [],
   "source": [
    "l10 = localtimer(10000)\n",
    "l100 = localtimer(100000)\n",
    "l1m = localtimer(1000000)"
   ]
  },
  {
   "cell_type": "markdown",
   "metadata": {},
   "source": [
    "## Time Parallel"
   ]
  },
  {
   "cell_type": "markdown",
   "metadata": {},
   "source": [
    "### Configure client, engines, import objects"
   ]
  },
  {
   "cell_type": "code",
   "execution_count": 7,
   "metadata": {},
   "outputs": [
    {
     "name": "stdout",
     "output_type": "stream",
     "text": [
      "{0: 24941, 1: 24942, 2: 24943, 3: 24944}\n"
     ]
    }
   ],
   "source": [
    "clients = ipp.Client()\n",
    "clients.block = True\n",
    "ar = clients[:].apply_async(os.getpid)\n",
    "pid_map = ar.get_dict()\n",
    "dview = clients.direct_view()\n",
    "\n",
    "##get env variables in place on engines\n",
    "%px import numpy as np; import timeit\n",
    "dview.push({\"montecarlowalk\": montecarlowalk, \"lastprice\": lastprice, \n",
    "            \"mu\": mu, \"sigma\": sigma})\n",
    "print pid_map"
   ]
  },
  {
   "cell_type": "markdown",
   "metadata": {},
   "source": [
    "### Parallel Timer Func"
   ]
  },
  {
   "cell_type": "code",
   "execution_count": 8,
   "metadata": {
    "collapsed": true
   },
   "outputs": [],
   "source": [
    "def paralleltimer(n):\n",
    "    t0 = time.time()\n",
    "    dview.push({'n': n})\n",
    "    %px enginenum = n / 4\n",
    "    %px monte = [montecarlowalk(20) for i in range(enginenum)]\n",
    "    monte = dview.gather('monte')\n",
    "    VaR99 = np.percentile(monte, 1)\n",
    "    t1 = time.time()\n",
    "    t = t1-t0\n",
    "    return t"
   ]
  },
  {
   "cell_type": "markdown",
   "metadata": {},
   "source": [
    "### Time 10K, 100K, 1Mil Loops"
   ]
  },
  {
   "cell_type": "code",
   "execution_count": 9,
   "metadata": {
    "collapsed": true
   },
   "outputs": [],
   "source": [
    "p10 = paralleltimer(10000)\n",
    "p100 = paralleltimer(100000)\n",
    "p1m = paralleltimer(1000000)"
   ]
  },
  {
   "cell_type": "markdown",
   "metadata": {},
   "source": [
    "## Summary"
   ]
  },
  {
   "cell_type": "code",
   "execution_count": 10,
   "metadata": {},
   "outputs": [
    {
     "data": {
      "image/png": "[encoded data removed]",
      "text/plain": [
       "<matplotlib.figure.Figure at 0x11089a4d0>"
      ]
     },
     "metadata": {},
     "output_type": "display_data"
    }
   ],
   "source": [
    "timing = pd.DataFrame({'group': ['single', 'single', 'single', 'parallel', 'parallel', 'parallel'],\n",
    "         'num': ['10k', '100k', '1m', '10k', '100k', '1m'], \n",
    "         'time': [l10, l100, l1m, p10, p100, p1m]})\n",
    "ax = sns.barplot(x=\"num\", y=\"time\", hue=\"group\", data=timing);\n",
    "ax.set(xlabel='number of loops', ylabel='time', title=\"Timing Comparison \\n MonteCarlo VaR Sim\")\n",
    "plt.show()"
   ]
  },
  {
   "cell_type": "markdown",
   "metadata": {},
   "source": [
    "### References"
   ]
  },
  {
   "cell_type": "markdown",
   "metadata": {},
   "source": [
    "* http://minrk.github.io/scipy-tutorial-2011/\n",
    "* http://seaborn.pydata.org/tutorial/categorical.html\n",
    "* http://davidmasad.com/blog/simulation-with-ipyparallel/"
   ]
  }
 ],
 "metadata": {
  "kernelspec": {
   "display_name": "Python 2",
   "language": "python",
   "name": "python2"
  },
  "language_info": {
   "codemirror_mode": {
    "name": "ipython",
    "version": 2
   },
   "file_extension": ".py",
   "mimetype": "text/x-python",
   "name": "python",
   "nbconvert_exporter": "python",
   "pygments_lexer": "ipython2",
   "version": "2.7.10"
  }
 },
 "nbformat": 4,
 "nbformat_minor": 1
}
